{
  "nbformat": 4,
  "nbformat_minor": 0,
  "metadata": {
    "colab": {
      "provenance": []
    },
    "kernelspec": {
      "name": "python3",
      "display_name": "Python 3"
    },
    "language_info": {
      "name": "python"
    }
  },
  "cells": [
    {
      "cell_type": "code",
      "source": [],
      "metadata": {
        "id": "tvWigiEq9V9g"
      },
      "execution_count": null,
      "outputs": []
    },
    {
      "cell_type": "code",
      "source": [
        "!pip install -q py3Dmol\n"
      ],
      "metadata": {
        "id": "Io3PBx0bNR0-"
      },
      "execution_count": null,
      "outputs": []
    },
    {
      "cell_type": "code",
      "source": [
        "!pip install -q ase openpyxl tqdm\n"
      ],
      "metadata": {
        "id": "s2JYH3TArxNZ"
      },
      "execution_count": null,
      "outputs": []
    },
    {
      "cell_type": "code",
      "source": [
        "# ----------------------------------------\n",
        "# 📌 ONE-TIME USER INPUT BLOCK\n",
        "# ----------------------------------------\n",
        "user_input = {\n",
        "    'element_A': 'Pt',\n",
        "    'element_B': 'Ru',\n",
        "    'composition_A': 0.5,\n",
        "    'temperature': 250.0,\n",
        "    'n_steps': 10000,\n",
        "    'save_interval': 1000,\n",
        "    'capture_frames': True,\n",
        "    'frame_interval': 1000,\n",
        "    'layers': (7, 7, 7),\n",
        "    'surfaces': [(1, 1, 1), (1, 1, 1), (1, 1, 0)],\n",
        "    'lattice_type': 'fcc',  # Choose 'fcc', 'bcc', or 'hcp'\n",
        "    'coefficients': {\n",
        "        'xA-A': -0.022078,\n",
        "        'xB-B': -0.150000,\n",
        "        'xA-B': -0.109575,\n",
        "        'xA-S': -0.250717,\n",
        "        'xB-S': -0.300000,\n",
        "        'xA-A-out': 0.184150,\n",
        "        'xB-B-out': 0.332228,\n",
        "        'xA-B-out': 0.051042\n",
        "    }\n",
        "}\n",
        "\n"
      ],
      "metadata": {
        "id": "uyXAd1U6rvGO"
      },
      "execution_count": null,
      "outputs": []
    },
    {
      "cell_type": "code",
      "source": [
        "import random, math, time, os\n",
        "import numpy as np\n",
        "from ase.io import write, read\n",
        "from ase.neighborlist import build_neighbor_list\n",
        "from openpyxl import Workbook\n",
        "from tqdm import tqdm\n",
        "\n",
        "# ASE cluster imports for lattices\n",
        "from ase.cluster import FaceCenteredCubic, BodyCenteredCubic, HexagonalClosedPacked\n",
        "\n",
        "# --- Extract user inputs ---\n",
        "A = user_input['element_A']\n",
        "B = user_input['element_B']\n",
        "composition_A = user_input['composition_A']\n",
        "T = user_input['temperature']\n",
        "N_STEPS = user_input['n_steps']\n",
        "SAVE_INTERVAL = user_input['save_interval']\n",
        "LAYERS = user_input['layers']\n",
        "SURFACES = user_input['surfaces']\n",
        "COEFFS = user_input['coefficients']\n",
        "LATTICE_TYPE = user_input.get('lattice_type', 'fcc').lower()  # default fcc\n",
        "BOLTZMANN_K = 8.617333262e-5\n",
        "BULK_COORD = 12\n",
        "\n",
        "# --- Map lattice type to ASE cluster builder ---\n",
        "lattice_map = {\n",
        "    'fcc': FaceCenteredCubic,\n",
        "    'bcc': BodyCenteredCubic,\n",
        "    'hcp': HexagonalClosedPacked\n",
        "}\n",
        "\n",
        "ClusterBuilder = lattice_map.get(LATTICE_TYPE)\n",
        "if ClusterBuilder is None:\n",
        "    raise ValueError(f\"Unsupported lattice type '{LATTICE_TYPE}'. Choose from 'fcc', 'bcc', or 'hcp'.\")\n",
        "\n",
        "# --- Generate Nanoparticle ---\n",
        "particle = ClusterBuilder(A, surfaces=SURFACES, layers=LAYERS)\n",
        "n_atoms = len(particle)\n",
        "n_A = int(n_atoms * composition_A)\n",
        "indices_A = random.sample(range(n_atoms), n_A)\n",
        "for i in range(n_atoms):\n",
        "    particle[i].symbol = A if i in indices_A else B\n",
        "\n",
        "xyz_file = f\"{A}{B}_initial_{n_atoms}.xyz\"\n",
        "write(xyz_file, particle)\n",
        "print(f\"✅ Structure generated with {n_atoms} atoms in {LATTICE_TYPE.upper()} lattice. Saved as: {xyz_file}\")\n",
        "\n",
        "# --- Helper Functions ---\n",
        "def symbol_type(sym):\n",
        "    return 'A' if sym == A else 'B'\n",
        "\n",
        "def calculate_energy(p, coeffs):\n",
        "    nl = build_neighbor_list(p, bothways=True, self_interaction=False)\n",
        "    count = {k: 0 for k in coeffs}\n",
        "    for i in range(len(p)):\n",
        "        t_i = symbol_type(p[i].symbol)\n",
        "        neighbors = nl.get_neighbors(i)[0]\n",
        "        if len(neighbors) < BULK_COORD:\n",
        "            count[f'x{t_i}-S'] += 1\n",
        "        for j in neighbors:\n",
        "            if i < j:\n",
        "                t_j = symbol_type(p[j].symbol)\n",
        "                if t_i == t_j:\n",
        "                    count[f'x{t_i}-{t_j}'] += 1\n",
        "                else:\n",
        "                    count['xA-B'] += 1\n",
        "    return sum(coeffs[k] * count[k] for k in count)\n",
        "\n",
        "def count_surface(p):\n",
        "    nl = build_neighbor_list(p, bothways=True, self_interaction=False)\n",
        "    total_A, surf, surf_A = 0, 0, 0\n",
        "    for i in range(len(p)):\n",
        "        neighbors = nl.get_neighbors(i)[0]\n",
        "        t = symbol_type(p[i].symbol)\n",
        "        if t == 'A': total_A += 1\n",
        "        if len(neighbors) < BULK_COORD:\n",
        "            surf += 1\n",
        "            if t == 'A': surf_A += 1\n",
        "    ratio = surf_A / surf if surf else 0\n",
        "    return total_A, surf, surf_A, ratio\n"
      ],
      "metadata": {
        "colab": {
          "base_uri": "https://localhost:8080/"
        },
        "id": "84BCeTgYr1vK",
        "outputId": "51faee04-b767-48e3-f111-0594c2379591"
      },
      "execution_count": null,
      "outputs": [
        {
          "output_type": "stream",
          "name": "stdout",
          "text": [
            "✅ Structure generated with 423 atoms in FCC lattice. Saved as: PtRu_initial_423.xyz\n"
          ]
        }
      ]
    },
    {
      "cell_type": "code",
      "source": [
        "# Save initial state for comparison\n",
        "initial_surface_data = count_surface(particle)\n",
        "initial_xyz = f\"{A}{B}_initial_{n_atoms}.xyz\"\n",
        "write(initial_xyz, particle)\n",
        "print(f\"🧬 Initial structure saved for reference: {initial_xyz}\")\n"
      ],
      "metadata": {
        "colab": {
          "base_uri": "https://localhost:8080/"
        },
        "id": "oIbG-5gRNjvu",
        "outputId": "24a81c66-167f-4fd0-f463-01bec96ec121"
      },
      "execution_count": null,
      "outputs": [
        {
          "output_type": "stream",
          "name": "stdout",
          "text": [
            "🧬 Initial structure saved for reference: PtRu_initial_423.xyz\n"
          ]
        }
      ]
    },
    {
      "cell_type": "code",
      "source": [
        "from ase.io import write\n",
        "import os\n",
        "\n",
        "# --- Parameters ---\n",
        "SAVE_INTERVAL = 200               # Interval for logging data\n",
        "SNAPSHOT_INTERVAL = 500         # Interval for saving .xyz snapshots\n",
        "os.makedirs(\"trajectory\", exist_ok=True)\n",
        "\n",
        "# --- Monte Carlo Simulation ---\n",
        "energy = calculate_energy(particle, COEFFS)\n",
        "log = []\n",
        "start_time = time.time()\n",
        "print(\"\\n🔁 Starting Monte Carlo Simulation...\\n\")\n",
        "\n",
        "for step in tqdm(range(1, N_STEPS + 1)):\n",
        "    i = random.randint(0, n_atoms - 1)\n",
        "    neighbors = build_neighbor_list(particle).get_neighbors(i)[0]\n",
        "    if len(neighbors) == 0: continue\n",
        "    j = random.choice(neighbors)\n",
        "    if particle[i].symbol == particle[j].symbol: continue\n",
        "\n",
        "    trial = particle.copy()\n",
        "    trial[i].symbol, trial[j].symbol = trial[j].symbol, trial[i].symbol\n",
        "    dE = calculate_energy(trial, COEFFS) - energy\n",
        "\n",
        "    if dE < 0 or random.random() < math.exp(-dE / (BOLTZMANN_K * T)):\n",
        "        particle = trial\n",
        "        energy += dE\n",
        "\n",
        "    # 🧾 Log data\n",
        "    if step % SAVE_INTERVAL == 0:\n",
        "        total_A, surf, surf_A, ratio = count_surface(particle)\n",
        "        log.append({\n",
        "            'Step': step,\n",
        "            'Energy (eV)': energy,\n",
        "            f'Total {A}': total_A,\n",
        "            'Surface Atoms': surf,\n",
        "            f'{A} on Surface': surf_A,\n",
        "            f'Surface {A} Ratio': ratio\n",
        "        })\n",
        "        print(f\"📘 Step {step} | Energy: {energy:.3f} eV | Surface {A} Ratio: {ratio:.4f}\")\n",
        "\n",
        "    # 📸 Save snapshot\n",
        "    if step % SNAPSHOT_INTERVAL == 0:\n",
        "        snapshot_file = f\"trajectory/step_{step:05d}.xyz\"\n",
        "        write(snapshot_file, particle)\n",
        "        print(f\"📸 Saved snapshot at step {step}\")\n"
      ],
      "metadata": {
        "colab": {
          "base_uri": "https://localhost:8080/"
        },
        "id": "EZa3lsfVr7Ke",
        "outputId": "74aee665-cefd-405e-ff21-8e0188a799ab"
      },
      "execution_count": null,
      "outputs": [
        {
          "output_type": "stream",
          "name": "stdout",
          "text": [
            "\n",
            "🔁 Starting Monte Carlo Simulation...\n",
            "\n"
          ]
        },
        {
          "output_type": "stream",
          "name": "stderr",
          "text": [
            "  4%|▍         | 403/10000 [00:12<07:30, 21.31it/s]"
          ]
        },
        {
          "output_type": "stream",
          "name": "stdout",
          "text": [
            "📘 Step 400 | Energy: -276.645 eV | Surface Pt Ratio: 0.4961\n"
          ]
        },
        {
          "output_type": "stream",
          "name": "stderr",
          "text": [
            "  8%|▊         | 804/10000 [00:24<04:55, 31.10it/s]"
          ]
        },
        {
          "output_type": "stream",
          "name": "stdout",
          "text": [
            "📘 Step 800 | Energy: -280.942 eV | Surface Pt Ratio: 0.5155\n"
          ]
        },
        {
          "output_type": "stream",
          "name": "stderr",
          "text": [
            " 12%|█▏        | 1205/10000 [00:37<04:53, 29.98it/s]"
          ]
        },
        {
          "output_type": "stream",
          "name": "stdout",
          "text": [
            "📘 Step 1200 | Energy: -283.666 eV | Surface Pt Ratio: 0.5310\n"
          ]
        },
        {
          "output_type": "stream",
          "name": "stderr",
          "text": [
            " 14%|█▍        | 1403/10000 [00:43<04:34, 31.31it/s]"
          ]
        },
        {
          "output_type": "stream",
          "name": "stdout",
          "text": [
            "📘 Step 1400 | Energy: -285.630 eV | Surface Pt Ratio: 0.5349\n"
          ]
        },
        {
          "output_type": "stream",
          "name": "stderr",
          "text": [
            " 18%|█▊        | 1808/10000 [00:56<04:26, 30.76it/s]"
          ]
        },
        {
          "output_type": "stream",
          "name": "stdout",
          "text": [
            "📘 Step 1800 | Energy: -288.859 eV | Surface Pt Ratio: 0.5543\n"
          ]
        },
        {
          "output_type": "stream",
          "name": "stderr",
          "text": [
            " 20%|██        | 2004/10000 [01:03<06:21, 20.95it/s]"
          ]
        },
        {
          "output_type": "stream",
          "name": "stdout",
          "text": [
            "📘 Step 2000 | Energy: -289.221 eV | Surface Pt Ratio: 0.5426\n",
            "📸 Saved snapshot at step 2000\n"
          ]
        },
        {
          "output_type": "stream",
          "name": "stderr",
          "text": [
            " 22%|██▏       | 2202/10000 [01:10<05:16, 24.63it/s]"
          ]
        },
        {
          "output_type": "stream",
          "name": "stdout",
          "text": [
            "📘 Step 2200 | Energy: -289.747 eV | Surface Pt Ratio: 0.5543\n"
          ]
        },
        {
          "output_type": "stream",
          "name": "stderr",
          "text": [
            " 24%|██▍       | 2403/10000 [01:17<05:47, 21.86it/s]"
          ]
        },
        {
          "output_type": "stream",
          "name": "stdout",
          "text": [
            "📘 Step 2400 | Energy: -290.630 eV | Surface Pt Ratio: 0.5775\n"
          ]
        },
        {
          "output_type": "stream",
          "name": "stderr",
          "text": [
            " 26%|██▌       | 2606/10000 [01:22<03:46, 32.71it/s]"
          ]
        },
        {
          "output_type": "stream",
          "name": "stdout",
          "text": [
            "📘 Step 2600 | Energy: -291.067 eV | Surface Pt Ratio: 0.5775\n"
          ]
        },
        {
          "output_type": "stream",
          "name": "stderr",
          "text": [
            " 28%|██▊       | 2806/10000 [01:29<04:46, 25.09it/s]"
          ]
        },
        {
          "output_type": "stream",
          "name": "stdout",
          "text": [
            "📘 Step 2800 | Energy: -291.639 eV | Surface Pt Ratio: 0.5775\n"
          ]
        },
        {
          "output_type": "stream",
          "name": "stderr",
          "text": [
            " 30%|███       | 3004/10000 [01:35<03:55, 29.69it/s]"
          ]
        },
        {
          "output_type": "stream",
          "name": "stdout",
          "text": [
            "📘 Step 3000 | Energy: -292.081 eV | Surface Pt Ratio: 0.5698\n",
            "📸 Saved snapshot at step 3000\n"
          ]
        },
        {
          "output_type": "stream",
          "name": "stderr",
          "text": [
            " 36%|███▌      | 3606/10000 [01:55<04:36, 23.15it/s]"
          ]
        },
        {
          "output_type": "stream",
          "name": "stdout",
          "text": [
            "📘 Step 3600 | Energy: -292.608 eV | Surface Pt Ratio: 0.5659\n"
          ]
        },
        {
          "output_type": "stream",
          "name": "stderr",
          "text": [
            " 44%|████▍     | 4403/10000 [02:20<06:59, 13.33it/s]"
          ]
        },
        {
          "output_type": "stream",
          "name": "stdout",
          "text": [
            "📘 Step 4400 | Energy: -293.291 eV | Surface Pt Ratio: 0.5736\n"
          ]
        },
        {
          "output_type": "stream",
          "name": "stderr",
          "text": [
            " 46%|████▌     | 4604/10000 [02:27<03:04, 29.22it/s]"
          ]
        },
        {
          "output_type": "stream",
          "name": "stdout",
          "text": [
            "📘 Step 4600 | Energy: -293.627 eV | Surface Pt Ratio: 0.5620\n"
          ]
        },
        {
          "output_type": "stream",
          "name": "stderr",
          "text": [
            " 48%|████▊     | 4806/10000 [02:34<03:22, 25.61it/s]"
          ]
        },
        {
          "output_type": "stream",
          "name": "stdout",
          "text": [
            "📘 Step 4800 | Energy: -293.822 eV | Surface Pt Ratio: 0.5620\n"
          ]
        },
        {
          "output_type": "stream",
          "name": "stderr",
          "text": [
            " 54%|█████▍    | 5400/10000 [02:52<01:58, 38.90it/s]"
          ]
        },
        {
          "output_type": "stream",
          "name": "stdout",
          "text": [
            "📘 Step 5400 | Energy: -294.532 eV | Surface Pt Ratio: 0.5698\n"
          ]
        },
        {
          "output_type": "stream",
          "name": "stderr",
          "text": [
            " 55%|█████▌    | 5504/10000 [02:55<02:30, 29.78it/s]"
          ]
        },
        {
          "output_type": "stream",
          "name": "stdout",
          "text": [
            "📸 Saved snapshot at step 5500\n"
          ]
        },
        {
          "output_type": "stream",
          "name": "stderr",
          "text": [
            " 58%|█████▊    | 5805/10000 [03:05<02:16, 30.76it/s]"
          ]
        },
        {
          "output_type": "stream",
          "name": "stdout",
          "text": [
            "📘 Step 5800 | Energy: -294.585 eV | Surface Pt Ratio: 0.5698\n"
          ]
        },
        {
          "output_type": "stream",
          "name": "stderr",
          "text": [
            " 65%|██████▌   | 6504/10000 [03:28<01:52, 30.98it/s]"
          ]
        },
        {
          "output_type": "stream",
          "name": "stdout",
          "text": [
            "📸 Saved snapshot at step 6500\n"
          ]
        },
        {
          "output_type": "stream",
          "name": "stderr",
          "text": [
            " 66%|██████▌   | 6605/10000 [03:31<01:41, 33.57it/s]"
          ]
        },
        {
          "output_type": "stream",
          "name": "stdout",
          "text": [
            "📘 Step 6600 | Energy: -294.687 eV | Surface Pt Ratio: 0.5814\n"
          ]
        },
        {
          "output_type": "stream",
          "name": "stderr",
          "text": [
            " 72%|███████▏  | 7204/10000 [03:51<01:42, 27.31it/s]"
          ]
        },
        {
          "output_type": "stream",
          "name": "stdout",
          "text": [
            "📘 Step 7200 | Energy: -294.761 eV | Surface Pt Ratio: 0.5814\n"
          ]
        },
        {
          "output_type": "stream",
          "name": "stderr",
          "text": [
            " 74%|███████▍  | 7404/10000 [03:57<01:09, 37.42it/s]"
          ]
        },
        {
          "output_type": "stream",
          "name": "stdout",
          "text": [
            "📘 Step 7400 | Energy: -294.869 eV | Surface Pt Ratio: 0.5814\n"
          ]
        },
        {
          "output_type": "stream",
          "name": "stderr",
          "text": [
            " 75%|███████▌  | 7501/10000 [04:00<01:34, 26.54it/s]"
          ]
        },
        {
          "output_type": "stream",
          "name": "stdout",
          "text": [
            "📸 Saved snapshot at step 7500\n"
          ]
        },
        {
          "output_type": "stream",
          "name": "stderr",
          "text": [
            " 80%|████████  | 8004/10000 [04:17<01:18, 25.51it/s]"
          ]
        },
        {
          "output_type": "stream",
          "name": "stdout",
          "text": [
            "📘 Step 8000 | Energy: -294.822 eV | Surface Pt Ratio: 0.5814\n",
            "📸 Saved snapshot at step 8000\n"
          ]
        },
        {
          "output_type": "stream",
          "name": "stderr",
          "text": [
            " 84%|████████▍ | 8405/10000 [04:30<00:49, 32.16it/s]"
          ]
        },
        {
          "output_type": "stream",
          "name": "stdout",
          "text": [
            "📘 Step 8400 | Energy: -294.878 eV | Surface Pt Ratio: 0.5775\n"
          ]
        },
        {
          "output_type": "stream",
          "name": "stderr",
          "text": [
            " 85%|████████▌ | 8505/10000 [04:33<00:50, 29.68it/s]"
          ]
        },
        {
          "output_type": "stream",
          "name": "stdout",
          "text": [
            "📸 Saved snapshot at step 8500\n"
          ]
        },
        {
          "output_type": "stream",
          "name": "stderr",
          "text": [
            " 86%|████████▌ | 8606/10000 [04:36<00:34, 41.00it/s]"
          ]
        },
        {
          "output_type": "stream",
          "name": "stdout",
          "text": [
            "📘 Step 8600 | Energy: -294.925 eV | Surface Pt Ratio: 0.5775\n"
          ]
        },
        {
          "output_type": "stream",
          "name": "stderr",
          "text": [
            " 88%|████████▊ | 8805/10000 [04:43<00:34, 35.00it/s]"
          ]
        },
        {
          "output_type": "stream",
          "name": "stdout",
          "text": [
            "📘 Step 8800 | Energy: -295.084 eV | Surface Pt Ratio: 0.5814\n"
          ]
        },
        {
          "output_type": "stream",
          "name": "stderr",
          "text": [
            " 90%|█████████ | 9002/10000 [04:49<00:31, 31.75it/s]"
          ]
        },
        {
          "output_type": "stream",
          "name": "stdout",
          "text": [
            "📘 Step 9000 | Energy: -295.209 eV | Surface Pt Ratio: 0.5736\n",
            "📸 Saved snapshot at step 9000\n"
          ]
        },
        {
          "output_type": "stream",
          "name": "stderr",
          "text": [
            " 92%|█████████▏| 9206/10000 [04:56<00:24, 32.83it/s]"
          ]
        },
        {
          "output_type": "stream",
          "name": "stdout",
          "text": [
            "📘 Step 9200 | Energy: -295.241 eV | Surface Pt Ratio: 0.5775\n"
          ]
        },
        {
          "output_type": "stream",
          "name": "stderr",
          "text": [
            " 95%|█████████▌| 9502/10000 [05:05<00:21, 23.70it/s]"
          ]
        },
        {
          "output_type": "stream",
          "name": "stdout",
          "text": [
            "📸 Saved snapshot at step 9500\n"
          ]
        },
        {
          "output_type": "stream",
          "name": "stderr",
          "text": [
            "100%|██████████| 10000/10000 [05:21<00:00, 31.09it/s]\n"
          ]
        }
      ]
    },
    {
      "cell_type": "code",
      "source": [
        "!pip install ase imageio\n"
      ],
      "metadata": {
        "colab": {
          "base_uri": "https://localhost:8080/"
        },
        "id": "fIFH1__3EBXK",
        "outputId": "fca71e2d-09f1-4210-e28d-3f72ef8c87f6"
      },
      "execution_count": null,
      "outputs": [
        {
          "output_type": "stream",
          "name": "stdout",
          "text": [
            "Requirement already satisfied: ase in /usr/local/lib/python3.11/dist-packages (3.25.0)\n",
            "Requirement already satisfied: imageio in /usr/local/lib/python3.11/dist-packages (2.37.0)\n",
            "Requirement already satisfied: numpy>=1.19.5 in /usr/local/lib/python3.11/dist-packages (from ase) (2.0.2)\n",
            "Requirement already satisfied: scipy>=1.6.0 in /usr/local/lib/python3.11/dist-packages (from ase) (1.15.3)\n",
            "Requirement already satisfied: matplotlib>=3.3.4 in /usr/local/lib/python3.11/dist-packages (from ase) (3.10.0)\n",
            "Requirement already satisfied: pillow>=8.3.2 in /usr/local/lib/python3.11/dist-packages (from imageio) (11.2.1)\n",
            "Requirement already satisfied: contourpy>=1.0.1 in /usr/local/lib/python3.11/dist-packages (from matplotlib>=3.3.4->ase) (1.3.2)\n",
            "Requirement already satisfied: cycler>=0.10 in /usr/local/lib/python3.11/dist-packages (from matplotlib>=3.3.4->ase) (0.12.1)\n",
            "Requirement already satisfied: fonttools>=4.22.0 in /usr/local/lib/python3.11/dist-packages (from matplotlib>=3.3.4->ase) (4.58.5)\n",
            "Requirement already satisfied: kiwisolver>=1.3.1 in /usr/local/lib/python3.11/dist-packages (from matplotlib>=3.3.4->ase) (1.4.8)\n",
            "Requirement already satisfied: packaging>=20.0 in /usr/local/lib/python3.11/dist-packages (from matplotlib>=3.3.4->ase) (25.0)\n",
            "Requirement already satisfied: pyparsing>=2.3.1 in /usr/local/lib/python3.11/dist-packages (from matplotlib>=3.3.4->ase) (3.2.3)\n",
            "Requirement already satisfied: python-dateutil>=2.7 in /usr/local/lib/python3.11/dist-packages (from matplotlib>=3.3.4->ase) (2.9.0.post0)\n",
            "Requirement already satisfied: six>=1.5 in /usr/local/lib/python3.11/dist-packages (from python-dateutil>=2.7->matplotlib>=3.3.4->ase) (1.17.0)\n"
          ]
        }
      ]
    },
    {
      "cell_type": "code",
      "source": [
        "# --- Save Final Structure and Excel Log ---\n",
        "final_xyz = f\"final_{A}{B}_{n_atoms}.xyz\"\n",
        "write(final_xyz, particle)\n",
        "print(f\"\\n✅ Final structure saved as: {final_xyz}\")\n",
        "print(f\"⏱️ Total simulation time: {time.time() - start_time:.2f} seconds\")\n",
        "\n",
        "# Excel log export\n",
        "xlsx_file = f\"MMC_{A}{B}_log.xlsx\"\n",
        "wb = Workbook()\n",
        "ws = wb.active\n",
        "ws.title = \"Simulation Log\"\n",
        "\n",
        "params = [\n",
        "    (\"Element A\", A), (\"Element B\", B), (\"Composition A\", composition_A),\n",
        "    (\"Temperature (K)\", T), (\"MC Steps\", N_STEPS),\n",
        "    (\"Save Interval\", SAVE_INTERVAL), (\"Total Atoms\", n_atoms)\n",
        "]\n",
        "for i, (k, v) in enumerate(params, 1):\n",
        "    ws.cell(row=i, column=1, value=k)\n",
        "    ws.cell(row=i, column=2, value=v)\n",
        "\n",
        "header_row = len(params) + 2\n",
        "headers = list(log[0].keys())\n",
        "for j, h in enumerate(headers, 1):\n",
        "    ws.cell(row=header_row, column=j, value=h)\n",
        "\n",
        "for i, entry in enumerate(log, header_row + 1):\n",
        "    for j, h in enumerate(headers, 1):\n",
        "        ws.cell(row=i, column=j, value=entry[h])\n",
        "\n",
        "wb.save(xlsx_file)\n",
        "print(f\"📁 Log file saved: {xlsx_file}\")\n"
      ],
      "metadata": {
        "colab": {
          "base_uri": "https://localhost:8080/"
        },
        "id": "6g3UC9vZsPud",
        "outputId": "d1207a62-e45f-4d7d-895a-071590c986e1"
      },
      "execution_count": null,
      "outputs": [
        {
          "output_type": "stream",
          "name": "stdout",
          "text": [
            "\n",
            "✅ Final structure saved as: final_PtRu_423.xyz\n",
            "⏱️ Total simulation time: 4054.04 seconds\n",
            "📁 Log file saved: MMC_PtRu_log.xlsx\n"
          ]
        }
      ]
    },
    {
      "cell_type": "code",
      "source": [
        "import matplotlib.pyplot as plt\n",
        "\n",
        "steps = [entry['Step'] for entry in log]\n",
        "energy = [entry['Energy (eV)'] for entry in log]\n",
        "surface_ratio = [entry[f'Surface {A} Ratio'] for entry in log]\n",
        "\n",
        "plt.figure(figsize=(12, 4))\n",
        "plt.subplot(1, 2, 1)\n",
        "plt.plot(steps, energy, label='Energy (eV)', color='blue')\n",
        "plt.xlabel('MC Step'); plt.ylabel('Energy (eV)')\n",
        "plt.title('Energy vs. Step'); plt.grid(True)\n",
        "\n",
        "plt.subplot(1, 2, 2)\n",
        "plt.plot(steps, surface_ratio, label=f'Surface {A} Ratio', color='green')\n",
        "plt.xlabel('MC Step'); plt.ylabel(f'{A} Surface Atom Ratio')\n",
        "plt.title(f'Surface {A}% vs. Step'); plt.grid(True)\n",
        "\n",
        "plt.tight_layout(); plt.show()\n"
      ],
      "metadata": {
        "colab": {
          "base_uri": "https://localhost:8080/",
          "height": 407
        },
        "id": "bMgrJlMuMkPs",
        "outputId": "a0c9e0c8-3a34-4b24-a015-d52013e093a0"
      },
      "execution_count": null,
      "outputs": [
        {
          "output_type": "display_data",
          "data": {
            "text/plain": [
              "<Figure size 1200x400 with 2 Axes>"
            ],
            "image/png": "[encoded data removed]"
          },
          "metadata": {}
        }
      ]
    },
    {
      "cell_type": "code",
      "source": [
        "# --- ✅ Final Validation & Sanity Check ---\n",
        "\n",
        "import math\n",
        "import numpy as np\n",
        "\n",
        "print(\"\\n🔍 Running validation checks...\")\n",
        "errors = 0\n",
        "\n",
        "# 1. Atom count check\n",
        "if len(particle) != n_atoms:\n",
        "    print(f\"❌ Atom count mismatch: expected {n_atoms}, found {len(particle)}\")\n",
        "    errors += 1\n",
        "else:\n",
        "    print(f\"✅ Atom count is correct: {n_atoms}\")\n",
        "\n",
        "# 2. Final energy NaN check (use the last logged energy)\n",
        "final_energy = log[-1]['Energy (eV)']\n",
        "if isinstance(final_energy, (float, int)):\n",
        "    if math.isnan(final_energy):\n",
        "        print(\"❌ Final energy is NaN.\")\n",
        "        errors += 1\n",
        "    else:\n",
        "        print(f\"✅ Final energy is valid: {final_energy:.4f} eV\")\n",
        "else:\n",
        "    print(\"❌ Final energy is not a scalar.\")\n",
        "    errors += 1\n",
        "\n",
        "# 3. Surface atom sanity\n",
        "_, surf_atoms, surf_A, final_ratio = count_surface(particle)\n",
        "if surf_atoms == 0:\n",
        "    print(\"❌ No surface atoms detected.\")\n",
        "    errors += 1\n",
        "else:\n",
        "    print(f\"✅ Surface atoms present: {surf_atoms} total, {surf_A} are {A} atoms.\")\n",
        "    print(f\"➡️ Final Surface {A}%: {final_ratio:.4f}\")\n",
        "\n",
        "# 4. Surface ratio non-trivial\n",
        "if final_ratio == 0 or final_ratio == 1:\n",
        "    print(\"⚠️ Surface composition is fully segregated. May or may not be physical.\")\n",
        "else:\n",
        "    print(\"✅ Surface composition is mixed.\")\n",
        "\n",
        "# Final validation result\n",
        "if errors == 0:\n",
        "    print(\"\\n✅ Validation PASSED. System is physically consistent.\")\n",
        "else:\n",
        "    print(f\"\\n⚠️ Validation completed with {errors} issue(s). Check configuration.\")\n"
      ],
      "metadata": {
        "colab": {
          "base_uri": "https://localhost:8080/"
        },
        "id": "cD4tafwWMpP-",
        "outputId": "f04f6bc1-3cd2-45c6-f5d4-b72f66ca34db"
      },
      "execution_count": null,
      "outputs": [
        {
          "output_type": "stream",
          "name": "stdout",
          "text": [
            "\n",
            "🔍 Running validation checks...\n",
            "✅ Atom count is correct: 423\n",
            "✅ Final energy is valid: -279.0900 eV\n",
            "✅ Surface atoms present: 258 total, 138 are Pt atoms.\n",
            "➡️ Final Surface Pt%: 0.5349\n",
            "✅ Surface composition is mixed.\n",
            "\n",
            "✅ Validation PASSED. System is physically consistent.\n"
          ]
        }
      ]
    },
    {
      "cell_type": "code",
      "source": [
        "# --- 📊 Compare Before vs After Surface Ratios ---\n",
        "init_total, init_surf, init_surf_A, init_ratio = initial_surface_data\n",
        "final_total, final_surf, final_surf_A, final_ratio = count_surface(particle)\n",
        "\n",
        "print(\"\\n🔁 Surface Comparison: BEFORE vs AFTER\")\n",
        "print(f\"  Surface atoms:         {init_surf:>4} ➡️ {final_surf:>4}\")\n",
        "print(f\"  {A} on surface:        {init_surf_A:>4} ➡️ {final_surf_A:>4}\")\n",
        "print(f\"  Surface {A} Ratio:   {init_ratio:.4f} ➡️ {final_ratio:.4f}\")\n",
        "\n",
        "delta = final_ratio - init_ratio\n",
        "change_str = f\"🔼 Increased by {delta:.4f}\" if delta > 0 else f\"🔽 Decreased by {abs(delta):.4f}\" if delta < 0 else \"No change\"\n",
        "print(f\"  ➡️ Change: {change_str}\")\n"
      ],
      "metadata": {
        "colab": {
          "base_uri": "https://localhost:8080/"
        },
        "id": "NjkpGH-0NoRR",
        "outputId": "d8109d23-b685-4d51-c137-bfca322edbe2"
      },
      "execution_count": null,
      "outputs": [
        {
          "output_type": "stream",
          "name": "stdout",
          "text": [
            "\n",
            "🔁 Surface Comparison: BEFORE vs AFTER\n",
            "  Surface atoms:          258 ➡️  258\n",
            "  Pt on surface:         123 ➡️  138\n",
            "  Surface Pt Ratio:   0.4767 ➡️ 0.5349\n",
            "  ➡️ Change: 🔼 Increased by 0.0581\n"
          ]
        }
      ]
    },
    {
      "cell_type": "code",
      "source": [
        "!pip install -q py3Dmol\n"
      ],
      "metadata": {
        "id": "IaMg1jCrdpTK"
      },
      "execution_count": null,
      "outputs": []
    },
    {
      "cell_type": "code",
      "source": [
        "def view_xyz_colored(xyz_file, atom_A, atom_B, radius=1.5):\n",
        "    import py3Dmol\n",
        "    from IPython.display import display\n",
        "\n",
        "    with open(xyz_file) as f:\n",
        "        xyz_data = f.read()\n",
        "\n",
        "    view = py3Dmol.view(width=500, height=500)\n",
        "    view.addModel(xyz_data, 'xyz')\n",
        "\n",
        "    # Style atoms by element symbol from parameters\n",
        "    view.setStyle(\n",
        "        { \"elem\": atom_A },\n",
        "        { \"sphere\": { \"color\": \"gold\", \"radius\": radius } }\n",
        "    )\n",
        "    view.setStyle(\n",
        "        { \"elem\": atom_B },\n",
        "        { \"sphere\": { \"color\": \"green\", \"radius\": radius } }\n",
        "    )\n",
        "\n",
        "    view.setBackgroundColor(\"white\")\n",
        "    view.zoomTo()\n",
        "    return view\n"
      ],
      "metadata": {
        "id": "p-f8wdiJeaxd"
      },
      "execution_count": null,
      "outputs": []
    },
    {
      "cell_type": "code",
      "source": [
        "print(\"🧬 Initial Structure\")\n",
        "view_xyz_colored(initial_xyz, atom_A=A, atom_B=B).show()\n",
        "\n",
        "print(\"🧬 Final Structure\")\n",
        "view_xyz_colored(final_xyz, atom_A=A, atom_B=B).show()\n"
      ],
      "metadata": {
        "colab": {
          "base_uri": "https://localhost:8080/",
          "height": 1000
        },
        "id": "niXkkzmGeUU5",
        "outputId": "b933905c-2890-43f7-9b04-68f268e3e9dd"
      },
      "execution_count": null,
      "outputs": [
        {
          "output_type": "stream",
          "name": "stdout",
          "text": [
            "🧬 Initial Structure\n"
          ]
        },
        {
          "output_type": "display_data",
          "data": {
            "application/3dmoljs_load.v0": "<div id=\"3dmolviewer_17529526020303833\"  style=\"position: relative; width: 500px; height: 500px;\">\n        <p id=\"3dmolwarning_17529526020303833\" style=\"background-color:#ffcccc;color:black\">3Dmol.js failed to load for some reason.  Please check your browser console for error messages.<br></p>\n        </div>\n<script>\n\nvar loadScriptAsync = function(uri){\n  return new Promise((resolve, reject) => {\n    //this is to ignore the existence of requirejs amd\n    var savedexports, savedmodule;\n    if (typeof exports !== 'undefined') savedexports = exports;\n    else exports = {}\n    if (typeof module !== 'undefined') savedmodule = module;\n    else module = {}\n\n    var tag = document.createElement('script');\n    tag.src = uri;\n    tag.async = true;\n    tag.onload = () => {\n        exports = savedexports;\n        module = savedmodule;\n        resolve();\n    };\n  var firstScriptTag = document.getElementsByTagName('script')[0];\n  firstScriptTag.parentNode.insertBefore(tag, firstScriptTag);\n});\n};\n\nif(typeof $3Dmolpromise === 'undefined') {\n$3Dmolpromise = null;\n  $3Dmolpromise = loadScriptAsync('https://cdn.jsdelivr.net/npm/3dmol@2.5.1/build/3Dmol-min.js');\n}\n\nvar viewer_17529526020303833 = null;\nvar warn = document.getElementById(\"3dmolwarning_17529526020303833\");\nif(warn) {\n    warn.parentNode.removeChild(warn);\n}\n$3Dmolpromise.then(function() {\nviewer_17529526020303833 = $3Dmol.createViewer(document.getElementById(\"3dmolviewer_17529526020303833\"),{backgroundColor:\"white\"});\nviewer_17529526020303833.zoomTo();\n\tviewer_17529526020303833.addModel(\"423\\nProperties=species:S:1:pos:R:3 pbc=\\\"F F F\\\"\\nPt     -11.76000000      -1.96000000      -1.96000000\\nRu      -9.80000000      -3.92000000      -1.96000000\\nPt      -9.80000000      -1.96000000      -3.92000000\\nRu     -11.76000000      -1.96000000       1.96000000\\nRu      -9.80000000      -3.92000000       1.96000000\\nRu      -9.80000000      -1.96000000       0.00000000\\nPt      -9.80000000      -1.96000000       3.92000000\\nRu     -11.76000000       1.96000000      -1.96000000\\nPt      -9.80000000       0.00000000      -1.96000000\\nRu      -9.80000000       1.96000000      -3.92000000\\nPt     -11.76000000       0.00000000       0.00000000\\nPt     -11.76000000       1.96000000       1.96000000\\nRu      -9.80000000       0.00000000       1.96000000\\nRu      -9.80000000       1.96000000       0.00000000\\nPt      -9.80000000       1.96000000       3.92000000\\nRu      -9.80000000       3.92000000      -1.96000000\\nRu      -9.80000000       3.92000000       1.96000000\\nPt      -7.84000000      -5.88000000      -5.88000000\\nPt      -5.88000000      -7.84000000      -5.88000000\\nPt      -5.88000000      -5.88000000      -7.84000000\\nPt      -7.84000000      -5.88000000      -1.96000000\\nRu      -5.88000000      -7.84000000      -1.96000000\\nPt      -5.88000000      -5.88000000      -3.92000000\\nRu      -7.84000000      -5.88000000       1.96000000\\nRu      -5.88000000      -7.84000000       1.96000000\\nRu      -5.88000000      -5.88000000       0.00000000\\nPt      -7.84000000      -5.88000000       5.88000000\\nPt      -5.88000000      -7.84000000       5.88000000\\nRu      -5.88000000      -5.88000000       3.92000000\\nRu      -5.88000000      -5.88000000       7.84000000\\nRu      -7.84000000      -1.96000000      -5.88000000\\nPt      -5.88000000      -3.92000000      -5.88000000\\nRu      -5.88000000      -1.96000000      -7.84000000\\nRu      -7.84000000      -3.92000000      -3.92000000\\nPt      -7.84000000      -1.96000000      -1.96000000\\nPt      -5.88000000      -3.92000000      -1.96000000\\nPt      -5.88000000      -1.96000000      -3.92000000\\nRu      -7.84000000      -3.92000000       0.00000000\\nPt      -7.84000000      -1.96000000       1.96000000\\nPt      -5.88000000      -3.92000000       1.96000000\\nPt      -5.88000000      -1.96000000       0.00000000\\nRu      -7.84000000      -3.92000000       3.92000000\\nRu      -7.84000000      -1.96000000       5.88000000\\nPt      -5.88000000      -3.92000000       5.88000000\\nRu      -5.88000000      -1.96000000       3.92000000\\nRu      -5.88000000      -1.96000000       7.84000000\\nPt      -7.84000000       1.96000000      -5.88000000\\nPt      -5.88000000       0.00000000      -5.88000000\\nPt      -5.88000000       1.96000000      -7.84000000\\nRu      -7.84000000       0.00000000      -3.92000000\\nPt      -7.84000000       1.96000000      -1.96000000\\nRu      -5.88000000       0.00000000      -1.96000000\\nPt      -5.88000000       1.96000000      -3.92000000\\nRu      -7.84000000       0.00000000       0.00000000\\nRu      -7.84000000       1.96000000       1.96000000\\nPt      -5.88000000       0.00000000       1.96000000\\nPt      -5.88000000       1.96000000       0.00000000\\nPt      -7.84000000       0.00000000       3.92000000\\nPt      -7.84000000       1.96000000       5.88000000\\nPt      -5.88000000       0.00000000       5.88000000\\nRu      -5.88000000       1.96000000       3.92000000\\nRu      -5.88000000       1.96000000       7.84000000\\nRu      -7.84000000       5.88000000      -5.88000000\\nRu      -5.88000000       3.92000000      -5.88000000\\nRu      -5.88000000       5.88000000      -7.84000000\\nRu      -7.84000000       3.92000000      -3.92000000\\nRu      -7.84000000       5.88000000      -1.96000000\\nPt      -5.88000000       3.92000000      -1.96000000\\nRu      -5.88000000       5.88000000      -3.92000000\\nRu      -7.84000000       3.92000000       0.00000000\\nPt      -7.84000000       5.88000000       1.96000000\\nPt      -5.88000000       3.92000000       1.96000000\\nRu      -5.88000000       5.88000000       0.00000000\\nPt      -7.84000000       3.92000000       3.92000000\\nRu      -7.84000000       5.88000000       5.88000000\\nPt      -5.88000000       3.92000000       5.88000000\\nPt      -5.88000000       5.88000000       3.92000000\\nRu      -5.88000000       5.88000000       7.84000000\\nRu      -5.88000000       7.84000000      -5.88000000\\nRu      -5.88000000       7.84000000      -1.96000000\\nRu      -5.88000000       7.84000000       1.96000000\\nPt      -5.88000000       7.84000000       5.88000000\\nRu      -3.92000000      -9.80000000      -1.96000000\\nRu      -1.96000000     -11.76000000      -1.96000000\\nPt      -1.96000000      -9.80000000      -3.92000000\\nRu      -3.92000000      -9.80000000       1.96000000\\nRu      -1.96000000     -11.76000000       1.96000000\\nRu      -1.96000000      -9.80000000       0.00000000\\nRu      -1.96000000      -9.80000000       3.92000000\\nPt      -3.92000000      -5.88000000      -5.88000000\\nRu      -1.96000000      -7.84000000      -5.88000000\\nRu      -1.96000000      -5.88000000      -7.84000000\\nRu      -3.92000000      -7.84000000      -3.92000000\\nPt      -3.92000000      -5.88000000      -1.96000000\\nPt      -1.96000000      -7.84000000      -1.96000000\\nRu      -1.96000000      -5.88000000      -3.92000000\\nRu      -3.92000000      -7.84000000       0.00000000\\nRu      -3.92000000      -5.88000000       1.96000000\\nRu      -1.96000000      -7.84000000       1.96000000\\nPt      -1.96000000      -5.88000000       0.00000000\\nRu      -3.92000000      -7.84000000       3.92000000\\nPt      -3.92000000      -5.88000000       5.88000000\\nRu      -1.96000000      -7.84000000       5.88000000\\nPt      -1.96000000      -5.88000000       3.92000000\\nPt      -1.96000000      -5.88000000       7.84000000\\nRu      -3.92000000      -1.96000000      -9.80000000\\nPt      -1.96000000      -3.92000000      -9.80000000\\nRu      -1.96000000      -1.96000000     -11.76000000\\nRu      -3.92000000      -3.92000000      -7.84000000\\nRu      -3.92000000      -1.96000000      -5.88000000\\nPt      -1.96000000      -3.92000000      -5.88000000\\nRu      -1.96000000      -1.96000000      -7.84000000\\nRu      -3.92000000      -3.92000000      -3.92000000\\nRu      -3.92000000      -1.96000000      -1.96000000\\nRu      -1.96000000      -3.92000000      -1.96000000\\nPt      -1.96000000      -1.96000000      -3.92000000\\nRu      -3.92000000      -3.92000000       0.00000000\\nRu      -3.92000000      -1.96000000       1.96000000\\nPt      -1.96000000      -3.92000000       1.96000000\\nRu      -1.96000000      -1.96000000       0.00000000\\nPt      -3.92000000      -3.92000000       3.92000000\\nRu      -3.92000000      -1.96000000       5.88000000\\nRu      -1.96000000      -3.92000000       5.88000000\\nRu      -1.96000000      -1.96000000       3.92000000\\nRu      -3.92000000      -3.92000000       7.84000000\\nRu      -3.92000000      -1.96000000       9.80000000\\nPt      -1.96000000      -3.92000000       9.80000000\\nPt      -1.96000000      -1.96000000       7.84000000\\nPt      -1.96000000      -1.96000000      11.76000000\\nPt      -3.92000000       1.96000000      -9.80000000\\nRu      -1.96000000       0.00000000      -9.80000000\\nRu      -1.96000000       1.96000000     -11.76000000\\nPt      -3.92000000       0.00000000      -7.84000000\\nPt      -3.92000000       1.96000000      -5.88000000\\nRu      -1.96000000       0.00000000      -5.88000000\\nRu      -1.96000000       1.96000000      -7.84000000\\nRu      -3.92000000       0.00000000      -3.92000000\\nRu      -3.92000000       1.96000000      -1.96000000\\nRu      -1.96000000       0.00000000      -1.96000000\\nPt      -1.96000000       1.96000000      -3.92000000\\nPt      -3.92000000       0.00000000       0.00000000\\nPt      -3.92000000       1.96000000       1.96000000\\nRu      -1.96000000       0.00000000       1.96000000\\nPt      -1.96000000       1.96000000       0.00000000\\nPt      -3.92000000       0.00000000       3.92000000\\nPt      -3.92000000       1.96000000       5.88000000\\nPt      -1.96000000       0.00000000       5.88000000\\nPt      -1.96000000       1.96000000       3.92000000\\nRu      -3.92000000       0.00000000       7.84000000\\nPt      -3.92000000       1.96000000       9.80000000\\nPt      -1.96000000       0.00000000       9.80000000\\nPt      -1.96000000       1.96000000       7.84000000\\nRu      -1.96000000       1.96000000      11.76000000\\nRu      -1.96000000       3.92000000      -9.80000000\\nRu      -3.92000000       3.92000000      -7.84000000\\nRu      -3.92000000       5.88000000      -5.88000000\\nRu      -1.96000000       3.92000000      -5.88000000\\nRu      -1.96000000       5.88000000      -7.84000000\\nPt      -3.92000000       3.92000000      -3.92000000\\nRu      -3.92000000       5.88000000      -1.96000000\\nPt      -1.96000000       3.92000000      -1.96000000\\nPt      -1.96000000       5.88000000      -3.92000000\\nPt      -3.92000000       3.92000000       0.00000000\\nPt      -3.92000000       5.88000000       1.96000000\\nRu      -1.96000000       3.92000000       1.96000000\\nRu      -1.96000000       5.88000000       0.00000000\\nPt      -3.92000000       3.92000000       3.92000000\\nRu      -3.92000000       5.88000000       5.88000000\\nPt      -1.96000000       3.92000000       5.88000000\\nPt      -1.96000000       5.88000000       3.92000000\\nRu      -3.92000000       3.92000000       7.84000000\\nRu      -1.96000000       3.92000000       9.80000000\\nRu      -1.96000000       5.88000000       7.84000000\\nPt      -1.96000000       7.84000000      -5.88000000\\nRu      -3.92000000       7.84000000      -3.92000000\\nPt      -3.92000000       9.80000000      -1.96000000\\nRu      -1.96000000       7.84000000      -1.96000000\\nPt      -1.96000000       9.80000000      -3.92000000\\nPt      -3.92000000       7.84000000       0.00000000\\nPt      -3.92000000       9.80000000       1.96000000\\nRu      -1.96000000       7.84000000       1.96000000\\nRu      -1.96000000       9.80000000       0.00000000\\nPt      -3.92000000       7.84000000       3.92000000\\nRu      -1.96000000       7.84000000       5.88000000\\nPt      -1.96000000       9.80000000       3.92000000\\nRu      -1.96000000      11.76000000      -1.96000000\\nPt      -1.96000000      11.76000000       1.96000000\\nRu       0.00000000      -9.80000000      -1.96000000\\nRu       1.96000000     -11.76000000      -1.96000000\\nRu       1.96000000      -9.80000000      -3.92000000\\nRu       0.00000000     -11.76000000       0.00000000\\nRu       0.00000000      -9.80000000       1.96000000\\nRu       1.96000000     -11.76000000       1.96000000\\nPt       1.96000000      -9.80000000       0.00000000\\nPt       1.96000000      -9.80000000       3.92000000\\nPt       0.00000000      -5.88000000      -5.88000000\\nPt       1.96000000      -7.84000000      -5.88000000\\nPt       1.96000000      -5.88000000      -7.84000000\\nPt       0.00000000      -7.84000000      -3.92000000\\nPt       0.00000000      -5.88000000      -1.96000000\\nRu       1.96000000      -7.84000000      -1.96000000\\nRu       1.96000000      -5.88000000      -3.92000000\\nRu       0.00000000      -7.84000000       0.00000000\\nRu       0.00000000      -5.88000000       1.96000000\\nPt       1.96000000      -7.84000000       1.96000000\\nPt       1.96000000      -5.88000000       0.00000000\\nPt       0.00000000      -7.84000000       3.92000000\\nPt       0.00000000      -5.88000000       5.88000000\\nRu       1.96000000      -7.84000000       5.88000000\\nPt       1.96000000      -5.88000000       3.92000000\\nPt       1.96000000      -5.88000000       7.84000000\\nPt       0.00000000      -1.96000000      -9.80000000\\nPt       1.96000000      -3.92000000      -9.80000000\\nPt       1.96000000      -1.96000000     -11.76000000\\nRu       0.00000000      -3.92000000      -7.84000000\\nRu       0.00000000      -1.96000000      -5.88000000\\nRu       1.96000000      -3.92000000      -5.88000000\\nRu       1.96000000      -1.96000000      -7.84000000\\nPt       0.00000000      -3.92000000      -3.92000000\\nPt       0.00000000      -1.96000000      -1.96000000\\nPt       1.96000000      -3.92000000      -1.96000000\\nRu       1.96000000      -1.96000000      -3.92000000\\nPt       0.00000000      -3.92000000       0.00000000\\nPt       0.00000000      -1.96000000       1.96000000\\nRu       1.96000000      -3.92000000       1.96000000\\nPt       1.96000000      -1.96000000       0.00000000\\nPt       0.00000000      -3.92000000       3.92000000\\nPt       0.00000000      -1.96000000       5.88000000\\nRu       1.96000000      -3.92000000       5.88000000\\nPt       1.96000000      -1.96000000       3.92000000\\nPt       0.00000000      -3.92000000       7.84000000\\nRu       0.00000000      -1.96000000       9.80000000\\nRu       1.96000000      -3.92000000       9.80000000\\nPt       1.96000000      -1.96000000       7.84000000\\nRu       1.96000000      -1.96000000      11.76000000\\nRu       0.00000000       0.00000000     -11.76000000\\nPt       0.00000000       1.96000000      -9.80000000\\nRu       1.96000000       0.00000000      -9.80000000\\nPt       1.96000000       1.96000000     -11.76000000\\nRu       0.00000000       0.00000000      -7.84000000\\nPt       0.00000000       1.96000000      -5.88000000\\nPt       1.96000000       0.00000000      -5.88000000\\nRu       1.96000000       1.96000000      -7.84000000\\nPt       0.00000000       0.00000000      -3.92000000\\nRu       0.00000000       1.96000000      -1.96000000\\nRu       1.96000000       0.00000000      -1.96000000\\nPt       1.96000000       1.96000000      -3.92000000\\nRu       0.00000000       0.00000000       0.00000000\\nRu       0.00000000       1.96000000       1.96000000\\nPt       1.96000000       0.00000000       1.96000000\\nPt       1.96000000       1.96000000       0.00000000\\nPt       0.00000000       0.00000000       3.92000000\\nPt       0.00000000       1.96000000       5.88000000\\nRu       1.96000000       0.00000000       5.88000000\\nRu       1.96000000       1.96000000       3.92000000\\nPt       0.00000000       0.00000000       7.84000000\\nRu       0.00000000       1.96000000       9.80000000\\nRu       1.96000000       0.00000000       9.80000000\\nPt       1.96000000       1.96000000       7.84000000\\nPt       0.00000000       0.00000000      11.76000000\\nPt       1.96000000       1.96000000      11.76000000\\nRu       1.96000000       3.92000000      -9.80000000\\nPt       0.00000000       3.92000000      -7.84000000\\nPt       0.00000000       5.88000000      -5.88000000\\nRu       1.96000000       3.92000000      -5.88000000\\nRu       1.96000000       5.88000000      -7.84000000\\nRu       0.00000000       3.92000000      -3.92000000\\nRu       0.00000000       5.88000000      -1.96000000\\nRu       1.96000000       3.92000000      -1.96000000\\nRu       1.96000000       5.88000000      -3.92000000\\nRu       0.00000000       3.92000000       0.00000000\\nPt       0.00000000       5.88000000       1.96000000\\nPt       1.96000000       3.92000000       1.96000000\\nRu       1.96000000       5.88000000       0.00000000\\nRu       0.00000000       3.92000000       3.92000000\\nPt       0.00000000       5.88000000       5.88000000\\nPt       1.96000000       3.92000000       5.88000000\\nPt       1.96000000       5.88000000       3.92000000\\nRu       0.00000000       3.92000000       7.84000000\\nPt       1.96000000       3.92000000       9.80000000\\nPt       1.96000000       5.88000000       7.84000000\\nPt       1.96000000       7.84000000      -5.88000000\\nPt       0.00000000       7.84000000      -3.92000000\\nPt       0.00000000       9.80000000      -1.96000000\\nRu       1.96000000       7.84000000      -1.96000000\\nPt       1.96000000       9.80000000      -3.92000000\\nPt       0.00000000       7.84000000       0.00000000\\nPt       0.00000000       9.80000000       1.96000000\\nPt       1.96000000       7.84000000       1.96000000\\nRu       1.96000000       9.80000000       0.00000000\\nRu       0.00000000       7.84000000       3.92000000\\nPt       1.96000000       7.84000000       5.88000000\\nRu       1.96000000       9.80000000       3.92000000\\nPt       1.96000000      11.76000000      -1.96000000\\nRu       0.00000000      11.76000000       0.00000000\\nPt       1.96000000      11.76000000       1.96000000\\nPt       3.92000000      -9.80000000      -1.96000000\\nRu       3.92000000      -9.80000000       1.96000000\\nPt       3.92000000      -5.88000000      -5.88000000\\nRu       5.88000000      -7.84000000      -5.88000000\\nRu       5.88000000      -5.88000000      -7.84000000\\nPt       3.92000000      -7.84000000      -3.92000000\\nPt       3.92000000      -5.88000000      -1.96000000\\nRu       5.88000000      -7.84000000      -1.96000000\\nRu       5.88000000      -5.88000000      -3.92000000\\nPt       3.92000000      -7.84000000       0.00000000\\nPt       3.92000000      -5.88000000       1.96000000\\nPt       5.88000000      -7.84000000       1.96000000\\nRu       5.88000000      -5.88000000       0.00000000\\nRu       3.92000000      -7.84000000       3.92000000\\nRu       3.92000000      -5.88000000       5.88000000\\nPt       5.88000000      -7.84000000       5.88000000\\nPt       5.88000000      -5.88000000       3.92000000\\nPt       5.88000000      -5.88000000       7.84000000\\nPt       3.92000000      -1.96000000      -9.80000000\\nRu       3.92000000      -3.92000000      -7.84000000\\nRu       3.92000000      -1.96000000      -5.88000000\\nPt       5.88000000      -3.92000000      -5.88000000\\nPt       5.88000000      -1.96000000      -7.84000000\\nPt       3.92000000      -3.92000000      -3.92000000\\nRu       3.92000000      -1.96000000      -1.96000000\\nPt       5.88000000      -3.92000000      -1.96000000\\nRu       5.88000000      -1.96000000      -3.92000000\\nPt       3.92000000      -3.92000000       0.00000000\\nPt       3.92000000      -1.96000000       1.96000000\\nPt       5.88000000      -3.92000000       1.96000000\\nRu       5.88000000      -1.96000000       0.00000000\\nPt       3.92000000      -3.92000000       3.92000000\\nPt       3.92000000      -1.96000000       5.88000000\\nRu       5.88000000      -3.92000000       5.88000000\\nPt       5.88000000      -1.96000000       3.92000000\\nRu       3.92000000      -3.92000000       7.84000000\\nRu       3.92000000      -1.96000000       9.80000000\\nPt       5.88000000      -1.96000000       7.84000000\\nPt       3.92000000       1.96000000      -9.80000000\\nPt       3.92000000       0.00000000      -7.84000000\\nRu       3.92000000       1.96000000      -5.88000000\\nPt       5.88000000       0.00000000      -5.88000000\\nRu       5.88000000       1.96000000      -7.84000000\\nRu       3.92000000       0.00000000      -3.92000000\\nRu       3.92000000       1.96000000      -1.96000000\\nPt       5.88000000       0.00000000      -1.96000000\\nRu       5.88000000       1.96000000      -3.92000000\\nPt       3.92000000       0.00000000       0.00000000\\nPt       3.92000000       1.96000000       1.96000000\\nRu       5.88000000       0.00000000       1.96000000\\nPt       5.88000000       1.96000000       0.00000000\\nRu       3.92000000       0.00000000       3.92000000\\nPt       3.92000000       1.96000000       5.88000000\\nPt       5.88000000       0.00000000       5.88000000\\nRu       5.88000000       1.96000000       3.92000000\\nRu       3.92000000       0.00000000       7.84000000\\nRu       3.92000000       1.96000000       9.80000000\\nPt       5.88000000       1.96000000       7.84000000\\nRu       3.92000000       3.92000000      -7.84000000\\nRu       3.92000000       5.88000000      -5.88000000\\nRu       5.88000000       3.92000000      -5.88000000\\nRu       5.88000000       5.88000000      -7.84000000\\nRu       3.92000000       3.92000000      -3.92000000\\nPt       3.92000000       5.88000000      -1.96000000\\nPt       5.88000000       3.92000000      -1.96000000\\nPt       5.88000000       5.88000000      -3.92000000\\nRu       3.92000000       3.92000000       0.00000000\\nRu       3.92000000       5.88000000       1.96000000\\nRu       5.88000000       3.92000000       1.96000000\\nRu       5.88000000       5.88000000       0.00000000\\nRu       3.92000000       3.92000000       3.92000000\\nRu       3.92000000       5.88000000       5.88000000\\nRu       5.88000000       3.92000000       5.88000000\\nPt       5.88000000       5.88000000       3.92000000\\nRu       3.92000000       3.92000000       7.84000000\\nPt       5.88000000       5.88000000       7.84000000\\nPt       5.88000000       7.84000000      -5.88000000\\nPt       3.92000000       7.84000000      -3.92000000\\nPt       3.92000000       9.80000000      -1.96000000\\nPt       5.88000000       7.84000000      -1.96000000\\nPt       3.92000000       7.84000000       0.00000000\\nPt       3.92000000       9.80000000       1.96000000\\nPt       5.88000000       7.84000000       1.96000000\\nRu       3.92000000       7.84000000       3.92000000\\nRu       5.88000000       7.84000000       5.88000000\\nRu       7.84000000      -5.88000000      -5.88000000\\nPt       7.84000000      -5.88000000      -1.96000000\\nPt       7.84000000      -5.88000000       1.96000000\\nRu       7.84000000      -5.88000000       5.88000000\\nRu       7.84000000      -1.96000000      -5.88000000\\nRu       7.84000000      -3.92000000      -3.92000000\\nRu       7.84000000      -1.96000000      -1.96000000\\nPt       9.80000000      -3.92000000      -1.96000000\\nRu       9.80000000      -1.96000000      -3.92000000\\nPt       7.84000000      -3.92000000       0.00000000\\nPt       7.84000000      -1.96000000       1.96000000\\nPt       9.80000000      -3.92000000       1.96000000\\nRu       9.80000000      -1.96000000       0.00000000\\nPt       7.84000000      -3.92000000       3.92000000\\nRu       7.84000000      -1.96000000       5.88000000\\nRu       9.80000000      -1.96000000       3.92000000\\nRu       7.84000000       1.96000000      -5.88000000\\nPt       7.84000000       0.00000000      -3.92000000\\nPt       7.84000000       1.96000000      -1.96000000\\nPt       9.80000000       0.00000000      -1.96000000\\nPt       9.80000000       1.96000000      -3.92000000\\nRu       7.84000000       0.00000000       0.00000000\\nRu       7.84000000       1.96000000       1.96000000\\nPt       9.80000000       0.00000000       1.96000000\\nPt       9.80000000       1.96000000       0.00000000\\nPt       7.84000000       0.00000000       3.92000000\\nPt       7.84000000       1.96000000       5.88000000\\nRu       9.80000000       1.96000000       3.92000000\\nPt       7.84000000       5.88000000      -5.88000000\\nRu       7.84000000       3.92000000      -3.92000000\\nPt       7.84000000       5.88000000      -1.96000000\\nRu       9.80000000       3.92000000      -1.96000000\\nPt       7.84000000       3.92000000       0.00000000\\nPt       7.84000000       5.88000000       1.96000000\\nRu       9.80000000       3.92000000       1.96000000\\nPt       7.84000000       3.92000000       3.92000000\\nRu       7.84000000       5.88000000       5.88000000\\nRu      11.76000000      -1.96000000      -1.96000000\\nPt      11.76000000      -1.96000000       1.96000000\\nRu      11.76000000       1.96000000      -1.96000000\\nRu      11.76000000       0.00000000       0.00000000\\nPt      11.76000000       1.96000000       1.96000000\\n\",\"xyz\");\n\tviewer_17529526020303833.setStyle({\"elem\": \"Pt\"},{\"sphere\": {\"color\": \"gold\", \"radius\": 1.5}});\n\tviewer_17529526020303833.setStyle({\"elem\": \"Ru\"},{\"sphere\": {\"color\": \"green\", \"radius\": 1.5}});\n\tviewer_17529526020303833.setBackgroundColor(\"white\");\n\tviewer_17529526020303833.zoomTo();\nviewer_17529526020303833.render();\n});\n</script>",
            "text/html": [
              "<div id=\"3dmolviewer_17529526020303833\"  style=\"position: relative; width: 500px; height: 500px;\">\n",
              "        <p id=\"3dmolwarning_17529526020303833\" style=\"background-color:#ffcccc;color:black\">3Dmol.js failed to load for some reason.  Please check your browser console for error messages.<br></p>\n",
              "        </div>\n",
              "<script>\n",
              "\n",
              "var loadScriptAsync = function(uri){\n",
              "  return new Promise((resolve, reject) => {\n",
              "    //this is to ignore the existence of requirejs amd\n",
              "    var savedexports, savedmodule;\n",
              "    if (typeof exports !== 'undefined') savedexports = exports;\n",
              "    else exports = {}\n",
              "    if (typeof module !== 'undefined') savedmodule = module;\n",
              "    else module = {}\n",
              "\n",
              "    var tag = document.createElement('script');\n",
              "    tag.src = uri;\n",
              "    tag.async = true;\n",
              "    tag.onload = () => {\n",
              "        exports = savedexports;\n",
              "        module = savedmodule;\n",
              "        resolve();\n",
              "    };\n",
              "  var firstScriptTag = document.getElementsByTagName('script')[0];\n",
              "  firstScriptTag.parentNode.insertBefore(tag, firstScriptTag);\n",
              "});\n",
              "};\n",
              "\n",
              "if(typeof $3Dmolpromise === 'undefined') {\n",
              "$3Dmolpromise = null;\n",
              "  $3Dmolpromise = loadScriptAsync('https://cdn.jsdelivr.net/npm/3dmol@2.5.1/build/3Dmol-min.js');\n",
              "}\n",
              "\n",
              "var viewer_17529526020303833 = null;\n",
              "var warn = document.getElementById(\"3dmolwarning_17529526020303833\");\n",
              "if(warn) {\n",
              "    warn.parentNode.removeChild(warn);\n",
              "}\n",
              "$3Dmolpromise.then(function() {\n",
              "viewer_17529526020303833 = $3Dmol.createViewer(document.getElementById(\"3dmolviewer_17529526020303833\"),{backgroundColor:\"white\"});\n",
              "viewer_17529526020303833.zoomTo();\n",
              "\tviewer_17529526020303833.addModel(\"423\\nProperties=species:S:1:pos:R:3 pbc=\\\"F F F\\\"\\nPt     -11.76000000      -1.96000000      -1.96000000\\nRu      -9.80000000      -3.92000000      -1.96000000\\nPt      -9.80000000      -1.96000000      -3.92000000\\nRu     -11.76000000      -1.96000000       1.96000000\\nRu      -9.80000000      -3.92000000       1.96000000\\nRu      -9.80000000      -1.96000000       0.00000000\\nPt      -9.80000000      -1.96000000       3.92000000\\nRu     -11.76000000       1.96000000      -1.96000000\\nPt      -9.80000000       0.00000000      -1.96000000\\nRu      -9.80000000       1.96000000      -3.92000000\\nPt     -11.76000000       0.00000000       0.00000000\\nPt     -11.76000000       1.96000000       1.96000000\\nRu      -9.80000000       0.00000000       1.96000000\\nRu      -9.80000000       1.96000000       0.00000000\\nPt      -9.80000000       1.96000000       3.92000000\\nRu      -9.80000000       3.92000000      -1.96000000\\nRu      -9.80000000       3.92000000       1.96000000\\nPt      -7.84000000      -5.88000000      -5.88000000\\nPt      -5.88000000      -7.84000000      -5.88000000\\nPt      -5.88000000      -5.88000000      -7.84000000\\nPt      -7.84000000      -5.88000000      -1.96000000\\nRu      -5.88000000      -7.84000000      -1.96000000\\nPt      -5.88000000      -5.88000000      -3.92000000\\nRu      -7.84000000      -5.88000000       1.96000000\\nRu      -5.88000000      -7.84000000       1.96000000\\nRu      -5.88000000      -5.88000000       0.00000000\\nPt      -7.84000000      -5.88000000       5.88000000\\nPt      -5.88000000      -7.84000000       5.88000000\\nRu      -5.88000000      -5.88000000       3.92000000\\nRu      -5.88000000      -5.88000000       7.84000000\\nRu      -7.84000000      -1.96000000      -5.88000000\\nPt      -5.88000000      -3.92000000      -5.88000000\\nRu      -5.88000000      -1.96000000      -7.84000000\\nRu      -7.84000000      -3.92000000      -3.92000000\\nPt      -7.84000000      -1.96000000      -1.96000000\\nPt      -5.88000000      -3.92000000      -1.96000000\\nPt      -5.88000000      -1.96000000      -3.92000000\\nRu      -7.84000000      -3.92000000       0.00000000\\nPt      -7.84000000      -1.96000000       1.96000000\\nPt      -5.88000000      -3.92000000       1.96000000\\nPt      -5.88000000      -1.96000000       0.00000000\\nRu      -7.84000000      -3.92000000       3.92000000\\nRu      -7.84000000      -1.96000000       5.88000000\\nPt      -5.88000000      -3.92000000       5.88000000\\nRu      -5.88000000      -1.96000000       3.92000000\\nRu      -5.88000000      -1.96000000       7.84000000\\nPt      -7.84000000       1.96000000      -5.88000000\\nPt      -5.88000000       0.00000000      -5.88000000\\nPt      -5.88000000       1.96000000      -7.84000000\\nRu      -7.84000000       0.00000000      -3.92000000\\nPt      -7.84000000       1.96000000      -1.96000000\\nRu      -5.88000000       0.00000000      -1.96000000\\nPt      -5.88000000       1.96000000      -3.92000000\\nRu      -7.84000000       0.00000000       0.00000000\\nRu      -7.84000000       1.96000000       1.96000000\\nPt      -5.88000000       0.00000000       1.96000000\\nPt      -5.88000000       1.96000000       0.00000000\\nPt      -7.84000000       0.00000000       3.92000000\\nPt      -7.84000000       1.96000000       5.88000000\\nPt      -5.88000000       0.00000000       5.88000000\\nRu      -5.88000000       1.96000000       3.92000000\\nRu      -5.88000000       1.96000000       7.84000000\\nRu      -7.84000000       5.88000000      -5.88000000\\nRu      -5.88000000       3.92000000      -5.88000000\\nRu      -5.88000000       5.88000000      -7.84000000\\nRu      -7.84000000       3.92000000      -3.92000000\\nRu      -7.84000000       5.88000000      -1.96000000\\nPt      -5.88000000       3.92000000      -1.96000000\\nRu      -5.88000000       5.88000000      -3.92000000\\nRu      -7.84000000       3.92000000       0.00000000\\nPt      -7.84000000       5.88000000       1.96000000\\nPt      -5.88000000       3.92000000       1.96000000\\nRu      -5.88000000       5.88000000       0.00000000\\nPt      -7.84000000       3.92000000       3.92000000\\nRu      -7.84000000       5.88000000       5.88000000\\nPt      -5.88000000       3.92000000       5.88000000\\nPt      -5.88000000       5.88000000       3.92000000\\nRu      -5.88000000       5.88000000       7.84000000\\nRu      -5.88000000       7.84000000      -5.88000000\\nRu      -5.88000000       7.84000000      -1.96000000\\nRu      -5.88000000       7.84000000       1.96000000\\nPt      -5.88000000       7.84000000       5.88000000\\nRu      -3.92000000      -9.80000000      -1.96000000\\nRu      -1.96000000     -11.76000000      -1.96000000\\nPt      -1.96000000      -9.80000000      -3.92000000\\nRu      -3.92000000      -9.80000000       1.96000000\\nRu      -1.96000000     -11.76000000       1.96000000\\nRu      -1.96000000      -9.80000000       0.00000000\\nRu      -1.96000000      -9.80000000       3.92000000\\nPt      -3.92000000      -5.88000000      -5.88000000\\nRu      -1.96000000      -7.84000000      -5.88000000\\nRu      -1.96000000      -5.88000000      -7.84000000\\nRu      -3.92000000      -7.84000000      -3.92000000\\nPt      -3.92000000      -5.88000000      -1.96000000\\nPt      -1.96000000      -7.84000000      -1.96000000\\nRu      -1.96000000      -5.88000000      -3.92000000\\nRu      -3.92000000      -7.84000000       0.00000000\\nRu      -3.92000000      -5.88000000       1.96000000\\nRu      -1.96000000      -7.84000000       1.96000000\\nPt      -1.96000000      -5.88000000       0.00000000\\nRu      -3.92000000      -7.84000000       3.92000000\\nPt      -3.92000000      -5.88000000       5.88000000\\nRu      -1.96000000      -7.84000000       5.88000000\\nPt      -1.96000000      -5.88000000       3.92000000\\nPt      -1.96000000      -5.88000000       7.84000000\\nRu      -3.92000000      -1.96000000      -9.80000000\\nPt      -1.96000000      -3.92000000      -9.80000000\\nRu      -1.96000000      -1.96000000     -11.76000000\\nRu      -3.92000000      -3.92000000      -7.84000000\\nRu      -3.92000000      -1.96000000      -5.88000000\\nPt      -1.96000000      -3.92000000      -5.88000000\\nRu      -1.96000000      -1.96000000      -7.84000000\\nRu      -3.92000000      -3.92000000      -3.92000000\\nRu      -3.92000000      -1.96000000      -1.96000000\\nRu      -1.96000000      -3.92000000      -1.96000000\\nPt      -1.96000000      -1.96000000      -3.92000000\\nRu      -3.92000000      -3.92000000       0.00000000\\nRu      -3.92000000      -1.96000000       1.96000000\\nPt      -1.96000000      -3.92000000       1.96000000\\nRu      -1.96000000      -1.96000000       0.00000000\\nPt      -3.92000000      -3.92000000       3.92000000\\nRu      -3.92000000      -1.96000000       5.88000000\\nRu      -1.96000000      -3.92000000       5.88000000\\nRu      -1.96000000      -1.96000000       3.92000000\\nRu      -3.92000000      -3.92000000       7.84000000\\nRu      -3.92000000      -1.96000000       9.80000000\\nPt      -1.96000000      -3.92000000       9.80000000\\nPt      -1.96000000      -1.96000000       7.84000000\\nPt      -1.96000000      -1.96000000      11.76000000\\nPt      -3.92000000       1.96000000      -9.80000000\\nRu      -1.96000000       0.00000000      -9.80000000\\nRu      -1.96000000       1.96000000     -11.76000000\\nPt      -3.92000000       0.00000000      -7.84000000\\nPt      -3.92000000       1.96000000      -5.88000000\\nRu      -1.96000000       0.00000000      -5.88000000\\nRu      -1.96000000       1.96000000      -7.84000000\\nRu      -3.92000000       0.00000000      -3.92000000\\nRu      -3.92000000       1.96000000      -1.96000000\\nRu      -1.96000000       0.00000000      -1.96000000\\nPt      -1.96000000       1.96000000      -3.92000000\\nPt      -3.92000000       0.00000000       0.00000000\\nPt      -3.92000000       1.96000000       1.96000000\\nRu      -1.96000000       0.00000000       1.96000000\\nPt      -1.96000000       1.96000000       0.00000000\\nPt      -3.92000000       0.00000000       3.92000000\\nPt      -3.92000000       1.96000000       5.88000000\\nPt      -1.96000000       0.00000000       5.88000000\\nPt      -1.96000000       1.96000000       3.92000000\\nRu      -3.92000000       0.00000000       7.84000000\\nPt      -3.92000000       1.96000000       9.80000000\\nPt      -1.96000000       0.00000000       9.80000000\\nPt      -1.96000000       1.96000000       7.84000000\\nRu      -1.96000000       1.96000000      11.76000000\\nRu      -1.96000000       3.92000000      -9.80000000\\nRu      -3.92000000       3.92000000      -7.84000000\\nRu      -3.92000000       5.88000000      -5.88000000\\nRu      -1.96000000       3.92000000      -5.88000000\\nRu      -1.96000000       5.88000000      -7.84000000\\nPt      -3.92000000       3.92000000      -3.92000000\\nRu      -3.92000000       5.88000000      -1.96000000\\nPt      -1.96000000       3.92000000      -1.96000000\\nPt      -1.96000000       5.88000000      -3.92000000\\nPt      -3.92000000       3.92000000       0.00000000\\nPt      -3.92000000       5.88000000       1.96000000\\nRu      -1.96000000       3.92000000       1.96000000\\nRu      -1.96000000       5.88000000       0.00000000\\nPt      -3.92000000       3.92000000       3.92000000\\nRu      -3.92000000       5.88000000       5.88000000\\nPt      -1.96000000       3.92000000       5.88000000\\nPt      -1.96000000       5.88000000       3.92000000\\nRu      -3.92000000       3.92000000       7.84000000\\nRu      -1.96000000       3.92000000       9.80000000\\nRu      -1.96000000       5.88000000       7.84000000\\nPt      -1.96000000       7.84000000      -5.88000000\\nRu      -3.92000000       7.84000000      -3.92000000\\nPt      -3.92000000       9.80000000      -1.96000000\\nRu      -1.96000000       7.84000000      -1.96000000\\nPt      -1.96000000       9.80000000      -3.92000000\\nPt      -3.92000000       7.84000000       0.00000000\\nPt      -3.92000000       9.80000000       1.96000000\\nRu      -1.96000000       7.84000000       1.96000000\\nRu      -1.96000000       9.80000000       0.00000000\\nPt      -3.92000000       7.84000000       3.92000000\\nRu      -1.96000000       7.84000000       5.88000000\\nPt      -1.96000000       9.80000000       3.92000000\\nRu      -1.96000000      11.76000000      -1.96000000\\nPt      -1.96000000      11.76000000       1.96000000\\nRu       0.00000000      -9.80000000      -1.96000000\\nRu       1.96000000     -11.76000000      -1.96000000\\nRu       1.96000000      -9.80000000      -3.92000000\\nRu       0.00000000     -11.76000000       0.00000000\\nRu       0.00000000      -9.80000000       1.96000000\\nRu       1.96000000     -11.76000000       1.96000000\\nPt       1.96000000      -9.80000000       0.00000000\\nPt       1.96000000      -9.80000000       3.92000000\\nPt       0.00000000      -5.88000000      -5.88000000\\nPt       1.96000000      -7.84000000      -5.88000000\\nPt       1.96000000      -5.88000000      -7.84000000\\nPt       0.00000000      -7.84000000      -3.92000000\\nPt       0.00000000      -5.88000000      -1.96000000\\nRu       1.96000000      -7.84000000      -1.96000000\\nRu       1.96000000      -5.88000000      -3.92000000\\nRu       0.00000000      -7.84000000       0.00000000\\nRu       0.00000000      -5.88000000       1.96000000\\nPt       1.96000000      -7.84000000       1.96000000\\nPt       1.96000000      -5.88000000       0.00000000\\nPt       0.00000000      -7.84000000       3.92000000\\nPt       0.00000000      -5.88000000       5.88000000\\nRu       1.96000000      -7.84000000       5.88000000\\nPt       1.96000000      -5.88000000       3.92000000\\nPt       1.96000000      -5.88000000       7.84000000\\nPt       0.00000000      -1.96000000      -9.80000000\\nPt       1.96000000      -3.92000000      -9.80000000\\nPt       1.96000000      -1.96000000     -11.76000000\\nRu       0.00000000      -3.92000000      -7.84000000\\nRu       0.00000000      -1.96000000      -5.88000000\\nRu       1.96000000      -3.92000000      -5.88000000\\nRu       1.96000000      -1.96000000      -7.84000000\\nPt       0.00000000      -3.92000000      -3.92000000\\nPt       0.00000000      -1.96000000      -1.96000000\\nPt       1.96000000      -3.92000000      -1.96000000\\nRu       1.96000000      -1.96000000      -3.92000000\\nPt       0.00000000      -3.92000000       0.00000000\\nPt       0.00000000      -1.96000000       1.96000000\\nRu       1.96000000      -3.92000000       1.96000000\\nPt       1.96000000      -1.96000000       0.00000000\\nPt       0.00000000      -3.92000000       3.92000000\\nPt       0.00000000      -1.96000000       5.88000000\\nRu       1.96000000      -3.92000000       5.88000000\\nPt       1.96000000      -1.96000000       3.92000000\\nPt       0.00000000      -3.92000000       7.84000000\\nRu       0.00000000      -1.96000000       9.80000000\\nRu       1.96000000      -3.92000000       9.80000000\\nPt       1.96000000      -1.96000000       7.84000000\\nRu       1.96000000      -1.96000000      11.76000000\\nRu       0.00000000       0.00000000     -11.76000000\\nPt       0.00000000       1.96000000      -9.80000000\\nRu       1.96000000       0.00000000      -9.80000000\\nPt       1.96000000       1.96000000     -11.76000000\\nRu       0.00000000       0.00000000      -7.84000000\\nPt       0.00000000       1.96000000      -5.88000000\\nPt       1.96000000       0.00000000      -5.88000000\\nRu       1.96000000       1.96000000      -7.84000000\\nPt       0.00000000       0.00000000      -3.92000000\\nRu       0.00000000       1.96000000      -1.96000000\\nRu       1.96000000       0.00000000      -1.96000000\\nPt       1.96000000       1.96000000      -3.92000000\\nRu       0.00000000       0.00000000       0.00000000\\nRu       0.00000000       1.96000000       1.96000000\\nPt       1.96000000       0.00000000       1.96000000\\nPt       1.96000000       1.96000000       0.00000000\\nPt       0.00000000       0.00000000       3.92000000\\nPt       0.00000000       1.96000000       5.88000000\\nRu       1.96000000       0.00000000       5.88000000\\nRu       1.96000000       1.96000000       3.92000000\\nPt       0.00000000       0.00000000       7.84000000\\nRu       0.00000000       1.96000000       9.80000000\\nRu       1.96000000       0.00000000       9.80000000\\nPt       1.96000000       1.96000000       7.84000000\\nPt       0.00000000       0.00000000      11.76000000\\nPt       1.96000000       1.96000000      11.76000000\\nRu       1.96000000       3.92000000      -9.80000000\\nPt       0.00000000       3.92000000      -7.84000000\\nPt       0.00000000       5.88000000      -5.88000000\\nRu       1.96000000       3.92000000      -5.88000000\\nRu       1.96000000       5.88000000      -7.84000000\\nRu       0.00000000       3.92000000      -3.92000000\\nRu       0.00000000       5.88000000      -1.96000000\\nRu       1.96000000       3.92000000      -1.96000000\\nRu       1.96000000       5.88000000      -3.92000000\\nRu       0.00000000       3.92000000       0.00000000\\nPt       0.00000000       5.88000000       1.96000000\\nPt       1.96000000       3.92000000       1.96000000\\nRu       1.96000000       5.88000000       0.00000000\\nRu       0.00000000       3.92000000       3.92000000\\nPt       0.00000000       5.88000000       5.88000000\\nPt       1.96000000       3.92000000       5.88000000\\nPt       1.96000000       5.88000000       3.92000000\\nRu       0.00000000       3.92000000       7.84000000\\nPt       1.96000000       3.92000000       9.80000000\\nPt       1.96000000       5.88000000       7.84000000\\nPt       1.96000000       7.84000000      -5.88000000\\nPt       0.00000000       7.84000000      -3.92000000\\nPt       0.00000000       9.80000000      -1.96000000\\nRu       1.96000000       7.84000000      -1.96000000\\nPt       1.96000000       9.80000000      -3.92000000\\nPt       0.00000000       7.84000000       0.00000000\\nPt       0.00000000       9.80000000       1.96000000\\nPt       1.96000000       7.84000000       1.96000000\\nRu       1.96000000       9.80000000       0.00000000\\nRu       0.00000000       7.84000000       3.92000000\\nPt       1.96000000       7.84000000       5.88000000\\nRu       1.96000000       9.80000000       3.92000000\\nPt       1.96000000      11.76000000      -1.96000000\\nRu       0.00000000      11.76000000       0.00000000\\nPt       1.96000000      11.76000000       1.96000000\\nPt       3.92000000      -9.80000000      -1.96000000\\nRu       3.92000000      -9.80000000       1.96000000\\nPt       3.92000000      -5.88000000      -5.88000000\\nRu       5.88000000      -7.84000000      -5.88000000\\nRu       5.88000000      -5.88000000      -7.84000000\\nPt       3.92000000      -7.84000000      -3.92000000\\nPt       3.92000000      -5.88000000      -1.96000000\\nRu       5.88000000      -7.84000000      -1.96000000\\nRu       5.88000000      -5.88000000      -3.92000000\\nPt       3.92000000      -7.84000000       0.00000000\\nPt       3.92000000      -5.88000000       1.96000000\\nPt       5.88000000      -7.84000000       1.96000000\\nRu       5.88000000      -5.88000000       0.00000000\\nRu       3.92000000      -7.84000000       3.92000000\\nRu       3.92000000      -5.88000000       5.88000000\\nPt       5.88000000      -7.84000000       5.88000000\\nPt       5.88000000      -5.88000000       3.92000000\\nPt       5.88000000      -5.88000000       7.84000000\\nPt       3.92000000      -1.96000000      -9.80000000\\nRu       3.92000000      -3.92000000      -7.84000000\\nRu       3.92000000      -1.96000000      -5.88000000\\nPt       5.88000000      -3.92000000      -5.88000000\\nPt       5.88000000      -1.96000000      -7.84000000\\nPt       3.92000000      -3.92000000      -3.92000000\\nRu       3.92000000      -1.96000000      -1.96000000\\nPt       5.88000000      -3.92000000      -1.96000000\\nRu       5.88000000      -1.96000000      -3.92000000\\nPt       3.92000000      -3.92000000       0.00000000\\nPt       3.92000000      -1.96000000       1.96000000\\nPt       5.88000000      -3.92000000       1.96000000\\nRu       5.88000000      -1.96000000       0.00000000\\nPt       3.92000000      -3.92000000       3.92000000\\nPt       3.92000000      -1.96000000       5.88000000\\nRu       5.88000000      -3.92000000       5.88000000\\nPt       5.88000000      -1.96000000       3.92000000\\nRu       3.92000000      -3.92000000       7.84000000\\nRu       3.92000000      -1.96000000       9.80000000\\nPt       5.88000000      -1.96000000       7.84000000\\nPt       3.92000000       1.96000000      -9.80000000\\nPt       3.92000000       0.00000000      -7.84000000\\nRu       3.92000000       1.96000000      -5.88000000\\nPt       5.88000000       0.00000000      -5.88000000\\nRu       5.88000000       1.96000000      -7.84000000\\nRu       3.92000000       0.00000000      -3.92000000\\nRu       3.92000000       1.96000000      -1.96000000\\nPt       5.88000000       0.00000000      -1.96000000\\nRu       5.88000000       1.96000000      -3.92000000\\nPt       3.92000000       0.00000000       0.00000000\\nPt       3.92000000       1.96000000       1.96000000\\nRu       5.88000000       0.00000000       1.96000000\\nPt       5.88000000       1.96000000       0.00000000\\nRu       3.92000000       0.00000000       3.92000000\\nPt       3.92000000       1.96000000       5.88000000\\nPt       5.88000000       0.00000000       5.88000000\\nRu       5.88000000       1.96000000       3.92000000\\nRu       3.92000000       0.00000000       7.84000000\\nRu       3.92000000       1.96000000       9.80000000\\nPt       5.88000000       1.96000000       7.84000000\\nRu       3.92000000       3.92000000      -7.84000000\\nRu       3.92000000       5.88000000      -5.88000000\\nRu       5.88000000       3.92000000      -5.88000000\\nRu       5.88000000       5.88000000      -7.84000000\\nRu       3.92000000       3.92000000      -3.92000000\\nPt       3.92000000       5.88000000      -1.96000000\\nPt       5.88000000       3.92000000      -1.96000000\\nPt       5.88000000       5.88000000      -3.92000000\\nRu       3.92000000       3.92000000       0.00000000\\nRu       3.92000000       5.88000000       1.96000000\\nRu       5.88000000       3.92000000       1.96000000\\nRu       5.88000000       5.88000000       0.00000000\\nRu       3.92000000       3.92000000       3.92000000\\nRu       3.92000000       5.88000000       5.88000000\\nRu       5.88000000       3.92000000       5.88000000\\nPt       5.88000000       5.88000000       3.92000000\\nRu       3.92000000       3.92000000       7.84000000\\nPt       5.88000000       5.88000000       7.84000000\\nPt       5.88000000       7.84000000      -5.88000000\\nPt       3.92000000       7.84000000      -3.92000000\\nPt       3.92000000       9.80000000      -1.96000000\\nPt       5.88000000       7.84000000      -1.96000000\\nPt       3.92000000       7.84000000       0.00000000\\nPt       3.92000000       9.80000000       1.96000000\\nPt       5.88000000       7.84000000       1.96000000\\nRu       3.92000000       7.84000000       3.92000000\\nRu       5.88000000       7.84000000       5.88000000\\nRu       7.84000000      -5.88000000      -5.88000000\\nPt       7.84000000      -5.88000000      -1.96000000\\nPt       7.84000000      -5.88000000       1.96000000\\nRu       7.84000000      -5.88000000       5.88000000\\nRu       7.84000000      -1.96000000      -5.88000000\\nRu       7.84000000      -3.92000000      -3.92000000\\nRu       7.84000000      -1.96000000      -1.96000000\\nPt       9.80000000      -3.92000000      -1.96000000\\nRu       9.80000000      -1.96000000      -3.92000000\\nPt       7.84000000      -3.92000000       0.00000000\\nPt       7.84000000      -1.96000000       1.96000000\\nPt       9.80000000      -3.92000000       1.96000000\\nRu       9.80000000      -1.96000000       0.00000000\\nPt       7.84000000      -3.92000000       3.92000000\\nRu       7.84000000      -1.96000000       5.88000000\\nRu       9.80000000      -1.96000000       3.92000000\\nRu       7.84000000       1.96000000      -5.88000000\\nPt       7.84000000       0.00000000      -3.92000000\\nPt       7.84000000       1.96000000      -1.96000000\\nPt       9.80000000       0.00000000      -1.96000000\\nPt       9.80000000       1.96000000      -3.92000000\\nRu       7.84000000       0.00000000       0.00000000\\nRu       7.84000000       1.96000000       1.96000000\\nPt       9.80000000       0.00000000       1.96000000\\nPt       9.80000000       1.96000000       0.00000000\\nPt       7.84000000       0.00000000       3.92000000\\nPt       7.84000000       1.96000000       5.88000000\\nRu       9.80000000       1.96000000       3.92000000\\nPt       7.84000000       5.88000000      -5.88000000\\nRu       7.84000000       3.92000000      -3.92000000\\nPt       7.84000000       5.88000000      -1.96000000\\nRu       9.80000000       3.92000000      -1.96000000\\nPt       7.84000000       3.92000000       0.00000000\\nPt       7.84000000       5.88000000       1.96000000\\nRu       9.80000000       3.92000000       1.96000000\\nPt       7.84000000       3.92000000       3.92000000\\nRu       7.84000000       5.88000000       5.88000000\\nRu      11.76000000      -1.96000000      -1.96000000\\nPt      11.76000000      -1.96000000       1.96000000\\nRu      11.76000000       1.96000000      -1.96000000\\nRu      11.76000000       0.00000000       0.00000000\\nPt      11.76000000       1.96000000       1.96000000\\n\",\"xyz\");\n",
              "\tviewer_17529526020303833.setStyle({\"elem\": \"Pt\"},{\"sphere\": {\"color\": \"gold\", \"radius\": 1.5}});\n",
              "\tviewer_17529526020303833.setStyle({\"elem\": \"Ru\"},{\"sphere\": {\"color\": \"green\", \"radius\": 1.5}});\n",
              "\tviewer_17529526020303833.setBackgroundColor(\"white\");\n",
              "\tviewer_17529526020303833.zoomTo();\n",
              "viewer_17529526020303833.render();\n",
              "});\n",
              "</script>"
            ]
          },
          "metadata": {}
        },
        {
          "output_type": "stream",
          "name": "stdout",
          "text": [
            "🧬 Final Structure\n"
          ]
        },
        {
          "output_type": "display_data",
          "data": {
            "application/3dmoljs_load.v0": "<div id=\"3dmolviewer_17529526020340068\"  style=\"position: relative; width: 500px; height: 500px;\">\n        <p id=\"3dmolwarning_17529526020340068\" style=\"background-color:#ffcccc;color:black\">3Dmol.js failed to load for some reason.  Please check your browser console for error messages.<br></p>\n        </div>\n<script>\n\nvar loadScriptAsync = function(uri){\n  return new Promise((resolve, reject) => {\n    //this is to ignore the existence of requirejs amd\n    var savedexports, savedmodule;\n    if (typeof exports !== 'undefined') savedexports = exports;\n    else exports = {}\n    if (typeof module !== 'undefined') savedmodule = module;\n    else module = {}\n\n    var tag = document.createElement('script');\n    tag.src = uri;\n    tag.async = true;\n    tag.onload = () => {\n        exports = savedexports;\n        module = savedmodule;\n        resolve();\n    };\n  var firstScriptTag = document.getElementsByTagName('script')[0];\n  firstScriptTag.parentNode.insertBefore(tag, firstScriptTag);\n});\n};\n\nif(typeof $3Dmolpromise === 'undefined') {\n$3Dmolpromise = null;\n  $3Dmolpromise = loadScriptAsync('https://cdn.jsdelivr.net/npm/3dmol@2.5.1/build/3Dmol-min.js');\n}\n\nvar viewer_17529526020340068 = null;\nvar warn = document.getElementById(\"3dmolwarning_17529526020340068\");\nif(warn) {\n    warn.parentNode.removeChild(warn);\n}\n$3Dmolpromise.then(function() {\nviewer_17529526020340068 = $3Dmol.createViewer(document.getElementById(\"3dmolviewer_17529526020340068\"),{backgroundColor:\"white\"});\nviewer_17529526020340068.zoomTo();\n\tviewer_17529526020340068.addModel(\"423\\nProperties=species:S:1:pos:R:3 pbc=\\\"F F F\\\"\\nRu     -11.76000000      -1.96000000      -1.96000000\\nPt      -9.80000000      -3.92000000      -1.96000000\\nRu      -9.80000000      -1.96000000      -3.92000000\\nRu     -11.76000000      -1.96000000       1.96000000\\nPt      -9.80000000      -3.92000000       1.96000000\\nPt      -9.80000000      -1.96000000       0.00000000\\nRu      -9.80000000      -1.96000000       3.92000000\\nRu     -11.76000000       1.96000000      -1.96000000\\nRu      -9.80000000       0.00000000      -1.96000000\\nRu      -9.80000000       1.96000000      -3.92000000\\nPt     -11.76000000       0.00000000       0.00000000\\nPt     -11.76000000       1.96000000       1.96000000\\nPt      -9.80000000       0.00000000       1.96000000\\nRu      -9.80000000       1.96000000       0.00000000\\nPt      -9.80000000       1.96000000       3.92000000\\nPt      -9.80000000       3.92000000      -1.96000000\\nPt      -9.80000000       3.92000000       1.96000000\\nPt      -7.84000000      -5.88000000      -5.88000000\\nPt      -5.88000000      -7.84000000      -5.88000000\\nPt      -5.88000000      -5.88000000      -7.84000000\\nPt      -7.84000000      -5.88000000      -1.96000000\\nRu      -5.88000000      -7.84000000      -1.96000000\\nRu      -5.88000000      -5.88000000      -3.92000000\\nPt      -7.84000000      -5.88000000       1.96000000\\nPt      -5.88000000      -7.84000000       1.96000000\\nPt      -5.88000000      -5.88000000       0.00000000\\nRu      -7.84000000      -5.88000000       5.88000000\\nPt      -5.88000000      -7.84000000       5.88000000\\nPt      -5.88000000      -5.88000000       3.92000000\\nPt      -5.88000000      -5.88000000       7.84000000\\nRu      -7.84000000      -1.96000000      -5.88000000\\nPt      -5.88000000      -3.92000000      -5.88000000\\nRu      -5.88000000      -1.96000000      -7.84000000\\nRu      -7.84000000      -3.92000000      -3.92000000\\nRu      -7.84000000      -1.96000000      -1.96000000\\nPt      -5.88000000      -3.92000000      -1.96000000\\nRu      -5.88000000      -1.96000000      -3.92000000\\nPt      -7.84000000      -3.92000000       0.00000000\\nRu      -7.84000000      -1.96000000       1.96000000\\nRu      -5.88000000      -3.92000000       1.96000000\\nRu      -5.88000000      -1.96000000       0.00000000\\nPt      -7.84000000      -3.92000000       3.92000000\\nPt      -7.84000000      -1.96000000       5.88000000\\nPt      -5.88000000      -3.92000000       5.88000000\\nRu      -5.88000000      -1.96000000       3.92000000\\nRu      -5.88000000      -1.96000000       7.84000000\\nPt      -7.84000000       1.96000000      -5.88000000\\nPt      -5.88000000       0.00000000      -5.88000000\\nPt      -5.88000000       1.96000000      -7.84000000\\nRu      -7.84000000       0.00000000      -3.92000000\\nPt      -7.84000000       1.96000000      -1.96000000\\nRu      -5.88000000       0.00000000      -1.96000000\\nRu      -5.88000000       1.96000000      -3.92000000\\nRu      -7.84000000       0.00000000       0.00000000\\nPt      -7.84000000       1.96000000       1.96000000\\nRu      -5.88000000       0.00000000       1.96000000\\nRu      -5.88000000       1.96000000       0.00000000\\nPt      -7.84000000       0.00000000       3.92000000\\nPt      -7.84000000       1.96000000       5.88000000\\nRu      -5.88000000       0.00000000       5.88000000\\nRu      -5.88000000       1.96000000       3.92000000\\nPt      -5.88000000       1.96000000       7.84000000\\nPt      -7.84000000       5.88000000      -5.88000000\\nRu      -5.88000000       3.92000000      -5.88000000\\nPt      -5.88000000       5.88000000      -7.84000000\\nRu      -7.84000000       3.92000000      -3.92000000\\nRu      -7.84000000       5.88000000      -1.96000000\\nPt      -5.88000000       3.92000000      -1.96000000\\nRu      -5.88000000       5.88000000      -3.92000000\\nRu      -7.84000000       3.92000000       0.00000000\\nPt      -7.84000000       5.88000000       1.96000000\\nRu      -5.88000000       3.92000000       1.96000000\\nPt      -5.88000000       5.88000000       0.00000000\\nRu      -7.84000000       3.92000000       3.92000000\\nPt      -7.84000000       5.88000000       5.88000000\\nPt      -5.88000000       3.92000000       5.88000000\\nPt      -5.88000000       5.88000000       3.92000000\\nRu      -5.88000000       5.88000000       7.84000000\\nRu      -5.88000000       7.84000000      -5.88000000\\nPt      -5.88000000       7.84000000      -1.96000000\\nPt      -5.88000000       7.84000000       1.96000000\\nPt      -5.88000000       7.84000000       5.88000000\\nPt      -3.92000000      -9.80000000      -1.96000000\\nRu      -1.96000000     -11.76000000      -1.96000000\\nRu      -1.96000000      -9.80000000      -3.92000000\\nPt      -3.92000000      -9.80000000       1.96000000\\nPt      -1.96000000     -11.76000000       1.96000000\\nRu      -1.96000000      -9.80000000       0.00000000\\nPt      -1.96000000      -9.80000000       3.92000000\\nRu      -3.92000000      -5.88000000      -5.88000000\\nRu      -1.96000000      -7.84000000      -5.88000000\\nPt      -1.96000000      -5.88000000      -7.84000000\\nRu      -3.92000000      -7.84000000      -3.92000000\\nRu      -3.92000000      -5.88000000      -1.96000000\\nRu      -1.96000000      -7.84000000      -1.96000000\\nPt      -1.96000000      -5.88000000      -3.92000000\\nRu      -3.92000000      -7.84000000       0.00000000\\nRu      -3.92000000      -5.88000000       1.96000000\\nRu      -1.96000000      -7.84000000       1.96000000\\nPt      -1.96000000      -5.88000000       0.00000000\\nPt      -3.92000000      -7.84000000       3.92000000\\nRu      -3.92000000      -5.88000000       5.88000000\\nRu      -1.96000000      -7.84000000       5.88000000\\nRu      -1.96000000      -5.88000000       3.92000000\\nRu      -1.96000000      -5.88000000       7.84000000\\nRu      -3.92000000      -1.96000000      -9.80000000\\nPt      -1.96000000      -3.92000000      -9.80000000\\nPt      -1.96000000      -1.96000000     -11.76000000\\nPt      -3.92000000      -3.92000000      -7.84000000\\nRu      -3.92000000      -1.96000000      -5.88000000\\nPt      -1.96000000      -3.92000000      -5.88000000\\nRu      -1.96000000      -1.96000000      -7.84000000\\nPt      -3.92000000      -3.92000000      -3.92000000\\nRu      -3.92000000      -1.96000000      -1.96000000\\nRu      -1.96000000      -3.92000000      -1.96000000\\nPt      -1.96000000      -1.96000000      -3.92000000\\nPt      -3.92000000      -3.92000000       0.00000000\\nRu      -3.92000000      -1.96000000       1.96000000\\nRu      -1.96000000      -3.92000000       1.96000000\\nRu      -1.96000000      -1.96000000       0.00000000\\nPt      -3.92000000      -3.92000000       3.92000000\\nRu      -3.92000000      -1.96000000       5.88000000\\nRu      -1.96000000      -3.92000000       5.88000000\\nRu      -1.96000000      -1.96000000       3.92000000\\nPt      -3.92000000      -3.92000000       7.84000000\\nPt      -3.92000000      -1.96000000       9.80000000\\nPt      -1.96000000      -3.92000000       9.80000000\\nPt      -1.96000000      -1.96000000       7.84000000\\nRu      -1.96000000      -1.96000000      11.76000000\\nRu      -3.92000000       1.96000000      -9.80000000\\nPt      -1.96000000       0.00000000      -9.80000000\\nPt      -1.96000000       1.96000000     -11.76000000\\nPt      -3.92000000       0.00000000      -7.84000000\\nRu      -3.92000000       1.96000000      -5.88000000\\nRu      -1.96000000       0.00000000      -5.88000000\\nRu      -1.96000000       1.96000000      -7.84000000\\nRu      -3.92000000       0.00000000      -3.92000000\\nRu      -3.92000000       1.96000000      -1.96000000\\nPt      -1.96000000       0.00000000      -1.96000000\\nRu      -1.96000000       1.96000000      -3.92000000\\nPt      -3.92000000       0.00000000       0.00000000\\nRu      -3.92000000       1.96000000       1.96000000\\nPt      -1.96000000       0.00000000       1.96000000\\nRu      -1.96000000       1.96000000       0.00000000\\nPt      -3.92000000       0.00000000       3.92000000\\nPt      -3.92000000       1.96000000       5.88000000\\nPt      -1.96000000       0.00000000       5.88000000\\nRu      -1.96000000       1.96000000       3.92000000\\nPt      -3.92000000       0.00000000       7.84000000\\nPt      -3.92000000       1.96000000       9.80000000\\nRu      -1.96000000       0.00000000       9.80000000\\nRu      -1.96000000       1.96000000       7.84000000\\nPt      -1.96000000       1.96000000      11.76000000\\nRu      -1.96000000       3.92000000      -9.80000000\\nPt      -3.92000000       3.92000000      -7.84000000\\nRu      -3.92000000       5.88000000      -5.88000000\\nPt      -1.96000000       3.92000000      -5.88000000\\nPt      -1.96000000       5.88000000      -7.84000000\\nPt      -3.92000000       3.92000000      -3.92000000\\nPt      -3.92000000       5.88000000      -1.96000000\\nPt      -1.96000000       3.92000000      -1.96000000\\nPt      -1.96000000       5.88000000      -3.92000000\\nRu      -3.92000000       3.92000000       0.00000000\\nPt      -3.92000000       5.88000000       1.96000000\\nPt      -1.96000000       3.92000000       1.96000000\\nRu      -1.96000000       5.88000000       0.00000000\\nRu      -3.92000000       3.92000000       3.92000000\\nRu      -3.92000000       5.88000000       5.88000000\\nRu      -1.96000000       3.92000000       5.88000000\\nRu      -1.96000000       5.88000000       3.92000000\\nPt      -3.92000000       3.92000000       7.84000000\\nPt      -1.96000000       3.92000000       9.80000000\\nPt      -1.96000000       5.88000000       7.84000000\\nRu      -1.96000000       7.84000000      -5.88000000\\nRu      -3.92000000       7.84000000      -3.92000000\\nRu      -3.92000000       9.80000000      -1.96000000\\nPt      -1.96000000       7.84000000      -1.96000000\\nPt      -1.96000000       9.80000000      -3.92000000\\nRu      -3.92000000       7.84000000       0.00000000\\nPt      -3.92000000       9.80000000       1.96000000\\nRu      -1.96000000       7.84000000       1.96000000\\nPt      -1.96000000       9.80000000       0.00000000\\nPt      -3.92000000       7.84000000       3.92000000\\nPt      -1.96000000       7.84000000       5.88000000\\nPt      -1.96000000       9.80000000       3.92000000\\nPt      -1.96000000      11.76000000      -1.96000000\\nRu      -1.96000000      11.76000000       1.96000000\\nRu       0.00000000      -9.80000000      -1.96000000\\nPt       1.96000000     -11.76000000      -1.96000000\\nPt       1.96000000      -9.80000000      -3.92000000\\nPt       0.00000000     -11.76000000       0.00000000\\nRu       0.00000000      -9.80000000       1.96000000\\nPt       1.96000000     -11.76000000       1.96000000\\nRu       1.96000000      -9.80000000       0.00000000\\nPt       1.96000000      -9.80000000       3.92000000\\nPt       0.00000000      -5.88000000      -5.88000000\\nPt       1.96000000      -7.84000000      -5.88000000\\nPt       1.96000000      -5.88000000      -7.84000000\\nPt       0.00000000      -7.84000000      -3.92000000\\nRu       0.00000000      -5.88000000      -1.96000000\\nRu       1.96000000      -7.84000000      -1.96000000\\nPt       1.96000000      -5.88000000      -3.92000000\\nPt       0.00000000      -7.84000000       0.00000000\\nPt       0.00000000      -5.88000000       1.96000000\\nRu       1.96000000      -7.84000000       1.96000000\\nRu       1.96000000      -5.88000000       0.00000000\\nPt       0.00000000      -7.84000000       3.92000000\\nPt       0.00000000      -5.88000000       5.88000000\\nPt       1.96000000      -7.84000000       5.88000000\\nRu       1.96000000      -5.88000000       3.92000000\\nPt       1.96000000      -5.88000000       7.84000000\\nRu       0.00000000      -1.96000000      -9.80000000\\nRu       1.96000000      -3.92000000      -9.80000000\\nPt       1.96000000      -1.96000000     -11.76000000\\nRu       0.00000000      -3.92000000      -7.84000000\\nRu       0.00000000      -1.96000000      -5.88000000\\nPt       1.96000000      -3.92000000      -5.88000000\\nPt       1.96000000      -1.96000000      -7.84000000\\nPt       0.00000000      -3.92000000      -3.92000000\\nRu       0.00000000      -1.96000000      -1.96000000\\nPt       1.96000000      -3.92000000      -1.96000000\\nRu       1.96000000      -1.96000000      -3.92000000\\nRu       0.00000000      -3.92000000       0.00000000\\nRu       0.00000000      -1.96000000       1.96000000\\nPt       1.96000000      -3.92000000       1.96000000\\nPt       1.96000000      -1.96000000       0.00000000\\nPt       0.00000000      -3.92000000       3.92000000\\nRu       0.00000000      -1.96000000       5.88000000\\nRu       1.96000000      -3.92000000       5.88000000\\nRu       1.96000000      -1.96000000       3.92000000\\nRu       0.00000000      -3.92000000       7.84000000\\nRu       0.00000000      -1.96000000       9.80000000\\nPt       1.96000000      -3.92000000       9.80000000\\nPt       1.96000000      -1.96000000       7.84000000\\nPt       1.96000000      -1.96000000      11.76000000\\nRu       0.00000000       0.00000000     -11.76000000\\nPt       0.00000000       1.96000000      -9.80000000\\nRu       1.96000000       0.00000000      -9.80000000\\nPt       1.96000000       1.96000000     -11.76000000\\nRu       0.00000000       0.00000000      -7.84000000\\nPt       0.00000000       1.96000000      -5.88000000\\nRu       1.96000000       0.00000000      -5.88000000\\nPt       1.96000000       1.96000000      -7.84000000\\nPt       0.00000000       0.00000000      -3.92000000\\nRu       0.00000000       1.96000000      -1.96000000\\nPt       1.96000000       0.00000000      -1.96000000\\nRu       1.96000000       1.96000000      -3.92000000\\nRu       0.00000000       0.00000000       0.00000000\\nRu       0.00000000       1.96000000       1.96000000\\nPt       1.96000000       0.00000000       1.96000000\\nPt       1.96000000       1.96000000       0.00000000\\nPt       0.00000000       0.00000000       3.92000000\\nRu       0.00000000       1.96000000       5.88000000\\nPt       1.96000000       0.00000000       5.88000000\\nRu       1.96000000       1.96000000       3.92000000\\nRu       0.00000000       0.00000000       7.84000000\\nRu       0.00000000       1.96000000       9.80000000\\nRu       1.96000000       0.00000000       9.80000000\\nRu       1.96000000       1.96000000       7.84000000\\nRu       0.00000000       0.00000000      11.76000000\\nPt       1.96000000       1.96000000      11.76000000\\nRu       1.96000000       3.92000000      -9.80000000\\nRu       0.00000000       3.92000000      -7.84000000\\nRu       0.00000000       5.88000000      -5.88000000\\nPt       1.96000000       3.92000000      -5.88000000\\nPt       1.96000000       5.88000000      -7.84000000\\nRu       0.00000000       3.92000000      -3.92000000\\nRu       0.00000000       5.88000000      -1.96000000\\nRu       1.96000000       3.92000000      -1.96000000\\nPt       1.96000000       5.88000000      -3.92000000\\nPt       0.00000000       3.92000000       0.00000000\\nPt       0.00000000       5.88000000       1.96000000\\nPt       1.96000000       3.92000000       1.96000000\\nRu       1.96000000       5.88000000       0.00000000\\nPt       0.00000000       3.92000000       3.92000000\\nRu       0.00000000       5.88000000       5.88000000\\nRu       1.96000000       3.92000000       5.88000000\\nPt       1.96000000       5.88000000       3.92000000\\nPt       0.00000000       3.92000000       7.84000000\\nRu       1.96000000       3.92000000       9.80000000\\nRu       1.96000000       5.88000000       7.84000000\\nRu       1.96000000       7.84000000      -5.88000000\\nRu       0.00000000       7.84000000      -3.92000000\\nRu       0.00000000       9.80000000      -1.96000000\\nRu       1.96000000       7.84000000      -1.96000000\\nPt       1.96000000       9.80000000      -3.92000000\\nRu       0.00000000       7.84000000       0.00000000\\nRu       0.00000000       9.80000000       1.96000000\\nRu       1.96000000       7.84000000       1.96000000\\nRu       1.96000000       9.80000000       0.00000000\\nPt       0.00000000       7.84000000       3.92000000\\nRu       1.96000000       7.84000000       5.88000000\\nRu       1.96000000       9.80000000       3.92000000\\nRu       1.96000000      11.76000000      -1.96000000\\nRu       0.00000000      11.76000000       0.00000000\\nPt       1.96000000      11.76000000       1.96000000\\nRu       3.92000000      -9.80000000      -1.96000000\\nRu       3.92000000      -9.80000000       1.96000000\\nRu       3.92000000      -5.88000000      -5.88000000\\nPt       5.88000000      -7.84000000      -5.88000000\\nPt       5.88000000      -5.88000000      -7.84000000\\nPt       3.92000000      -7.84000000      -3.92000000\\nPt       3.92000000      -5.88000000      -1.96000000\\nPt       5.88000000      -7.84000000      -1.96000000\\nRu       5.88000000      -5.88000000      -3.92000000\\nPt       3.92000000      -7.84000000       0.00000000\\nPt       3.92000000      -5.88000000       1.96000000\\nPt       5.88000000      -7.84000000       1.96000000\\nRu       5.88000000      -5.88000000       0.00000000\\nPt       3.92000000      -7.84000000       3.92000000\\nRu       3.92000000      -5.88000000       5.88000000\\nRu       5.88000000      -7.84000000       5.88000000\\nRu       5.88000000      -5.88000000       3.92000000\\nRu       5.88000000      -5.88000000       7.84000000\\nRu       3.92000000      -1.96000000      -9.80000000\\nRu       3.92000000      -3.92000000      -7.84000000\\nRu       3.92000000      -1.96000000      -5.88000000\\nRu       5.88000000      -3.92000000      -5.88000000\\nPt       5.88000000      -1.96000000      -7.84000000\\nPt       3.92000000      -3.92000000      -3.92000000\\nPt       3.92000000      -1.96000000      -1.96000000\\nRu       5.88000000      -3.92000000      -1.96000000\\nPt       5.88000000      -1.96000000      -3.92000000\\nRu       3.92000000      -3.92000000       0.00000000\\nPt       3.92000000      -1.96000000       1.96000000\\nPt       5.88000000      -3.92000000       1.96000000\\nPt       5.88000000      -1.96000000       0.00000000\\nPt       3.92000000      -3.92000000       3.92000000\\nPt       3.92000000      -1.96000000       5.88000000\\nRu       5.88000000      -3.92000000       5.88000000\\nPt       5.88000000      -1.96000000       3.92000000\\nPt       3.92000000      -3.92000000       7.84000000\\nPt       3.92000000      -1.96000000       9.80000000\\nPt       5.88000000      -1.96000000       7.84000000\\nRu       3.92000000       1.96000000      -9.80000000\\nRu       3.92000000       0.00000000      -7.84000000\\nRu       3.92000000       1.96000000      -5.88000000\\nRu       5.88000000       0.00000000      -5.88000000\\nRu       5.88000000       1.96000000      -7.84000000\\nRu       3.92000000       0.00000000      -3.92000000\\nRu       3.92000000       1.96000000      -1.96000000\\nRu       5.88000000       0.00000000      -1.96000000\\nRu       5.88000000       1.96000000      -3.92000000\\nRu       3.92000000       0.00000000       0.00000000\\nPt       3.92000000       1.96000000       1.96000000\\nRu       5.88000000       0.00000000       1.96000000\\nPt       5.88000000       1.96000000       0.00000000\\nRu       3.92000000       0.00000000       3.92000000\\nPt       3.92000000       1.96000000       5.88000000\\nRu       5.88000000       0.00000000       5.88000000\\nRu       5.88000000       1.96000000       3.92000000\\nRu       3.92000000       0.00000000       7.84000000\\nRu       3.92000000       1.96000000       9.80000000\\nRu       5.88000000       1.96000000       7.84000000\\nPt       3.92000000       3.92000000      -7.84000000\\nRu       3.92000000       5.88000000      -5.88000000\\nRu       5.88000000       3.92000000      -5.88000000\\nPt       5.88000000       5.88000000      -7.84000000\\nPt       3.92000000       3.92000000      -3.92000000\\nPt       3.92000000       5.88000000      -1.96000000\\nPt       5.88000000       3.92000000      -1.96000000\\nRu       5.88000000       5.88000000      -3.92000000\\nPt       3.92000000       3.92000000       0.00000000\\nPt       3.92000000       5.88000000       1.96000000\\nRu       5.88000000       3.92000000       1.96000000\\nRu       5.88000000       5.88000000       0.00000000\\nRu       3.92000000       3.92000000       3.92000000\\nRu       3.92000000       5.88000000       5.88000000\\nPt       5.88000000       3.92000000       5.88000000\\nRu       5.88000000       5.88000000       3.92000000\\nRu       3.92000000       3.92000000       7.84000000\\nPt       5.88000000       5.88000000       7.84000000\\nRu       5.88000000       7.84000000      -5.88000000\\nPt       3.92000000       7.84000000      -3.92000000\\nPt       3.92000000       9.80000000      -1.96000000\\nRu       5.88000000       7.84000000      -1.96000000\\nRu       3.92000000       7.84000000       0.00000000\\nPt       3.92000000       9.80000000       1.96000000\\nPt       5.88000000       7.84000000       1.96000000\\nPt       3.92000000       7.84000000       3.92000000\\nPt       5.88000000       7.84000000       5.88000000\\nRu       7.84000000      -5.88000000      -5.88000000\\nRu       7.84000000      -5.88000000      -1.96000000\\nPt       7.84000000      -5.88000000       1.96000000\\nPt       7.84000000      -5.88000000       5.88000000\\nRu       7.84000000      -1.96000000      -5.88000000\\nPt       7.84000000      -3.92000000      -3.92000000\\nRu       7.84000000      -1.96000000      -1.96000000\\nRu       9.80000000      -3.92000000      -1.96000000\\nRu       9.80000000      -1.96000000      -3.92000000\\nPt       7.84000000      -3.92000000       0.00000000\\nPt       7.84000000      -1.96000000       1.96000000\\nPt       9.80000000      -3.92000000       1.96000000\\nPt       9.80000000      -1.96000000       0.00000000\\nRu       7.84000000      -3.92000000       3.92000000\\nPt       7.84000000      -1.96000000       5.88000000\\nPt       9.80000000      -1.96000000       3.92000000\\nRu       7.84000000       1.96000000      -5.88000000\\nRu       7.84000000       0.00000000      -3.92000000\\nPt       7.84000000       1.96000000      -1.96000000\\nRu       9.80000000       0.00000000      -1.96000000\\nPt       9.80000000       1.96000000      -3.92000000\\nRu       7.84000000       0.00000000       0.00000000\\nRu       7.84000000       1.96000000       1.96000000\\nPt       9.80000000       0.00000000       1.96000000\\nRu       9.80000000       1.96000000       0.00000000\\nPt       7.84000000       0.00000000       3.92000000\\nPt       7.84000000       1.96000000       5.88000000\\nRu       9.80000000       1.96000000       3.92000000\\nPt       7.84000000       5.88000000      -5.88000000\\nRu       7.84000000       3.92000000      -3.92000000\\nRu       7.84000000       5.88000000      -1.96000000\\nPt       9.80000000       3.92000000      -1.96000000\\nPt       7.84000000       3.92000000       0.00000000\\nPt       7.84000000       5.88000000       1.96000000\\nPt       9.80000000       3.92000000       1.96000000\\nPt       7.84000000       3.92000000       3.92000000\\nPt       7.84000000       5.88000000       5.88000000\\nPt      11.76000000      -1.96000000      -1.96000000\\nPt      11.76000000      -1.96000000       1.96000000\\nPt      11.76000000       1.96000000      -1.96000000\\nRu      11.76000000       0.00000000       0.00000000\\nPt      11.76000000       1.96000000       1.96000000\\n\",\"xyz\");\n\tviewer_17529526020340068.setStyle({\"elem\": \"Pt\"},{\"sphere\": {\"color\": \"gold\", \"radius\": 1.5}});\n\tviewer_17529526020340068.setStyle({\"elem\": \"Ru\"},{\"sphere\": {\"color\": \"green\", \"radius\": 1.5}});\n\tviewer_17529526020340068.setBackgroundColor(\"white\");\n\tviewer_17529526020340068.zoomTo();\nviewer_17529526020340068.render();\n});\n</script>",
            "text/html": [
              "<div id=\"3dmolviewer_17529526020340068\"  style=\"position: relative; width: 500px; height: 500px;\">\n",
              "        <p id=\"3dmolwarning_17529526020340068\" style=\"background-color:#ffcccc;color:black\">3Dmol.js failed to load for some reason.  Please check your browser console for error messages.<br></p>\n",
              "        </div>\n",
              "<script>\n",
              "\n",
              "var loadScriptAsync = function(uri){\n",
              "  return new Promise((resolve, reject) => {\n",
              "    //this is to ignore the existence of requirejs amd\n",
              "    var savedexports, savedmodule;\n",
              "    if (typeof exports !== 'undefined') savedexports = exports;\n",
              "    else exports = {}\n",
              "    if (typeof module !== 'undefined') savedmodule = module;\n",
              "    else module = {}\n",
              "\n",
              "    var tag = document.createElement('script');\n",
              "    tag.src = uri;\n",
              "    tag.async = true;\n",
              "    tag.onload = () => {\n",
              "        exports = savedexports;\n",
              "        module = savedmodule;\n",
              "        resolve();\n",
              "    };\n",
              "  var firstScriptTag = document.getElementsByTagName('script')[0];\n",
              "  firstScriptTag.parentNode.insertBefore(tag, firstScriptTag);\n",
              "});\n",
              "};\n",
              "\n",
              "if(typeof $3Dmolpromise === 'undefined') {\n",
              "$3Dmolpromise = null;\n",
              "  $3Dmolpromise = loadScriptAsync('https://cdn.jsdelivr.net/npm/3dmol@2.5.1/build/3Dmol-min.js');\n",
              "}\n",
              "\n",
              "var viewer_17529526020340068 = null;\n",
              "var warn = document.getElementById(\"3dmolwarning_17529526020340068\");\n",
              "if(warn) {\n",
              "    warn.parentNode.removeChild(warn);\n",
              "}\n",
              "$3Dmolpromise.then(function() {\n",
              "viewer_17529526020340068 = $3Dmol.createViewer(document.getElementById(\"3dmolviewer_17529526020340068\"),{backgroundColor:\"white\"});\n",
              "viewer_17529526020340068.zoomTo();\n",
              "\tviewer_17529526020340068.addModel(\"423\\nProperties=species:S:1:pos:R:3 pbc=\\\"F F F\\\"\\nRu     -11.76000000      -1.96000000      -1.96000000\\nPt      -9.80000000      -3.92000000      -1.96000000\\nRu      -9.80000000      -1.96000000      -3.92000000\\nRu     -11.76000000      -1.96000000       1.96000000\\nPt      -9.80000000      -3.92000000       1.96000000\\nPt      -9.80000000      -1.96000000       0.00000000\\nRu      -9.80000000      -1.96000000       3.92000000\\nRu     -11.76000000       1.96000000      -1.96000000\\nRu      -9.80000000       0.00000000      -1.96000000\\nRu      -9.80000000       1.96000000      -3.92000000\\nPt     -11.76000000       0.00000000       0.00000000\\nPt     -11.76000000       1.96000000       1.96000000\\nPt      -9.80000000       0.00000000       1.96000000\\nRu      -9.80000000       1.96000000       0.00000000\\nPt      -9.80000000       1.96000000       3.92000000\\nPt      -9.80000000       3.92000000      -1.96000000\\nPt      -9.80000000       3.92000000       1.96000000\\nPt      -7.84000000      -5.88000000      -5.88000000\\nPt      -5.88000000      -7.84000000      -5.88000000\\nPt      -5.88000000      -5.88000000      -7.84000000\\nPt      -7.84000000      -5.88000000      -1.96000000\\nRu      -5.88000000      -7.84000000      -1.96000000\\nRu      -5.88000000      -5.88000000      -3.92000000\\nPt      -7.84000000      -5.88000000       1.96000000\\nPt      -5.88000000      -7.84000000       1.96000000\\nPt      -5.88000000      -5.88000000       0.00000000\\nRu      -7.84000000      -5.88000000       5.88000000\\nPt      -5.88000000      -7.84000000       5.88000000\\nPt      -5.88000000      -5.88000000       3.92000000\\nPt      -5.88000000      -5.88000000       7.84000000\\nRu      -7.84000000      -1.96000000      -5.88000000\\nPt      -5.88000000      -3.92000000      -5.88000000\\nRu      -5.88000000      -1.96000000      -7.84000000\\nRu      -7.84000000      -3.92000000      -3.92000000\\nRu      -7.84000000      -1.96000000      -1.96000000\\nPt      -5.88000000      -3.92000000      -1.96000000\\nRu      -5.88000000      -1.96000000      -3.92000000\\nPt      -7.84000000      -3.92000000       0.00000000\\nRu      -7.84000000      -1.96000000       1.96000000\\nRu      -5.88000000      -3.92000000       1.96000000\\nRu      -5.88000000      -1.96000000       0.00000000\\nPt      -7.84000000      -3.92000000       3.92000000\\nPt      -7.84000000      -1.96000000       5.88000000\\nPt      -5.88000000      -3.92000000       5.88000000\\nRu      -5.88000000      -1.96000000       3.92000000\\nRu      -5.88000000      -1.96000000       7.84000000\\nPt      -7.84000000       1.96000000      -5.88000000\\nPt      -5.88000000       0.00000000      -5.88000000\\nPt      -5.88000000       1.96000000      -7.84000000\\nRu      -7.84000000       0.00000000      -3.92000000\\nPt      -7.84000000       1.96000000      -1.96000000\\nRu      -5.88000000       0.00000000      -1.96000000\\nRu      -5.88000000       1.96000000      -3.92000000\\nRu      -7.84000000       0.00000000       0.00000000\\nPt      -7.84000000       1.96000000       1.96000000\\nRu      -5.88000000       0.00000000       1.96000000\\nRu      -5.88000000       1.96000000       0.00000000\\nPt      -7.84000000       0.00000000       3.92000000\\nPt      -7.84000000       1.96000000       5.88000000\\nRu      -5.88000000       0.00000000       5.88000000\\nRu      -5.88000000       1.96000000       3.92000000\\nPt      -5.88000000       1.96000000       7.84000000\\nPt      -7.84000000       5.88000000      -5.88000000\\nRu      -5.88000000       3.92000000      -5.88000000\\nPt      -5.88000000       5.88000000      -7.84000000\\nRu      -7.84000000       3.92000000      -3.92000000\\nRu      -7.84000000       5.88000000      -1.96000000\\nPt      -5.88000000       3.92000000      -1.96000000\\nRu      -5.88000000       5.88000000      -3.92000000\\nRu      -7.84000000       3.92000000       0.00000000\\nPt      -7.84000000       5.88000000       1.96000000\\nRu      -5.88000000       3.92000000       1.96000000\\nPt      -5.88000000       5.88000000       0.00000000\\nRu      -7.84000000       3.92000000       3.92000000\\nPt      -7.84000000       5.88000000       5.88000000\\nPt      -5.88000000       3.92000000       5.88000000\\nPt      -5.88000000       5.88000000       3.92000000\\nRu      -5.88000000       5.88000000       7.84000000\\nRu      -5.88000000       7.84000000      -5.88000000\\nPt      -5.88000000       7.84000000      -1.96000000\\nPt      -5.88000000       7.84000000       1.96000000\\nPt      -5.88000000       7.84000000       5.88000000\\nPt      -3.92000000      -9.80000000      -1.96000000\\nRu      -1.96000000     -11.76000000      -1.96000000\\nRu      -1.96000000      -9.80000000      -3.92000000\\nPt      -3.92000000      -9.80000000       1.96000000\\nPt      -1.96000000     -11.76000000       1.96000000\\nRu      -1.96000000      -9.80000000       0.00000000\\nPt      -1.96000000      -9.80000000       3.92000000\\nRu      -3.92000000      -5.88000000      -5.88000000\\nRu      -1.96000000      -7.84000000      -5.88000000\\nPt      -1.96000000      -5.88000000      -7.84000000\\nRu      -3.92000000      -7.84000000      -3.92000000\\nRu      -3.92000000      -5.88000000      -1.96000000\\nRu      -1.96000000      -7.84000000      -1.96000000\\nPt      -1.96000000      -5.88000000      -3.92000000\\nRu      -3.92000000      -7.84000000       0.00000000\\nRu      -3.92000000      -5.88000000       1.96000000\\nRu      -1.96000000      -7.84000000       1.96000000\\nPt      -1.96000000      -5.88000000       0.00000000\\nPt      -3.92000000      -7.84000000       3.92000000\\nRu      -3.92000000      -5.88000000       5.88000000\\nRu      -1.96000000      -7.84000000       5.88000000\\nRu      -1.96000000      -5.88000000       3.92000000\\nRu      -1.96000000      -5.88000000       7.84000000\\nRu      -3.92000000      -1.96000000      -9.80000000\\nPt      -1.96000000      -3.92000000      -9.80000000\\nPt      -1.96000000      -1.96000000     -11.76000000\\nPt      -3.92000000      -3.92000000      -7.84000000\\nRu      -3.92000000      -1.96000000      -5.88000000\\nPt      -1.96000000      -3.92000000      -5.88000000\\nRu      -1.96000000      -1.96000000      -7.84000000\\nPt      -3.92000000      -3.92000000      -3.92000000\\nRu      -3.92000000      -1.96000000      -1.96000000\\nRu      -1.96000000      -3.92000000      -1.96000000\\nPt      -1.96000000      -1.96000000      -3.92000000\\nPt      -3.92000000      -3.92000000       0.00000000\\nRu      -3.92000000      -1.96000000       1.96000000\\nRu      -1.96000000      -3.92000000       1.96000000\\nRu      -1.96000000      -1.96000000       0.00000000\\nPt      -3.92000000      -3.92000000       3.92000000\\nRu      -3.92000000      -1.96000000       5.88000000\\nRu      -1.96000000      -3.92000000       5.88000000\\nRu      -1.96000000      -1.96000000       3.92000000\\nPt      -3.92000000      -3.92000000       7.84000000\\nPt      -3.92000000      -1.96000000       9.80000000\\nPt      -1.96000000      -3.92000000       9.80000000\\nPt      -1.96000000      -1.96000000       7.84000000\\nRu      -1.96000000      -1.96000000      11.76000000\\nRu      -3.92000000       1.96000000      -9.80000000\\nPt      -1.96000000       0.00000000      -9.80000000\\nPt      -1.96000000       1.96000000     -11.76000000\\nPt      -3.92000000       0.00000000      -7.84000000\\nRu      -3.92000000       1.96000000      -5.88000000\\nRu      -1.96000000       0.00000000      -5.88000000\\nRu      -1.96000000       1.96000000      -7.84000000\\nRu      -3.92000000       0.00000000      -3.92000000\\nRu      -3.92000000       1.96000000      -1.96000000\\nPt      -1.96000000       0.00000000      -1.96000000\\nRu      -1.96000000       1.96000000      -3.92000000\\nPt      -3.92000000       0.00000000       0.00000000\\nRu      -3.92000000       1.96000000       1.96000000\\nPt      -1.96000000       0.00000000       1.96000000\\nRu      -1.96000000       1.96000000       0.00000000\\nPt      -3.92000000       0.00000000       3.92000000\\nPt      -3.92000000       1.96000000       5.88000000\\nPt      -1.96000000       0.00000000       5.88000000\\nRu      -1.96000000       1.96000000       3.92000000\\nPt      -3.92000000       0.00000000       7.84000000\\nPt      -3.92000000       1.96000000       9.80000000\\nRu      -1.96000000       0.00000000       9.80000000\\nRu      -1.96000000       1.96000000       7.84000000\\nPt      -1.96000000       1.96000000      11.76000000\\nRu      -1.96000000       3.92000000      -9.80000000\\nPt      -3.92000000       3.92000000      -7.84000000\\nRu      -3.92000000       5.88000000      -5.88000000\\nPt      -1.96000000       3.92000000      -5.88000000\\nPt      -1.96000000       5.88000000      -7.84000000\\nPt      -3.92000000       3.92000000      -3.92000000\\nPt      -3.92000000       5.88000000      -1.96000000\\nPt      -1.96000000       3.92000000      -1.96000000\\nPt      -1.96000000       5.88000000      -3.92000000\\nRu      -3.92000000       3.92000000       0.00000000\\nPt      -3.92000000       5.88000000       1.96000000\\nPt      -1.96000000       3.92000000       1.96000000\\nRu      -1.96000000       5.88000000       0.00000000\\nRu      -3.92000000       3.92000000       3.92000000\\nRu      -3.92000000       5.88000000       5.88000000\\nRu      -1.96000000       3.92000000       5.88000000\\nRu      -1.96000000       5.88000000       3.92000000\\nPt      -3.92000000       3.92000000       7.84000000\\nPt      -1.96000000       3.92000000       9.80000000\\nPt      -1.96000000       5.88000000       7.84000000\\nRu      -1.96000000       7.84000000      -5.88000000\\nRu      -3.92000000       7.84000000      -3.92000000\\nRu      -3.92000000       9.80000000      -1.96000000\\nPt      -1.96000000       7.84000000      -1.96000000\\nPt      -1.96000000       9.80000000      -3.92000000\\nRu      -3.92000000       7.84000000       0.00000000\\nPt      -3.92000000       9.80000000       1.96000000\\nRu      -1.96000000       7.84000000       1.96000000\\nPt      -1.96000000       9.80000000       0.00000000\\nPt      -3.92000000       7.84000000       3.92000000\\nPt      -1.96000000       7.84000000       5.88000000\\nPt      -1.96000000       9.80000000       3.92000000\\nPt      -1.96000000      11.76000000      -1.96000000\\nRu      -1.96000000      11.76000000       1.96000000\\nRu       0.00000000      -9.80000000      -1.96000000\\nPt       1.96000000     -11.76000000      -1.96000000\\nPt       1.96000000      -9.80000000      -3.92000000\\nPt       0.00000000     -11.76000000       0.00000000\\nRu       0.00000000      -9.80000000       1.96000000\\nPt       1.96000000     -11.76000000       1.96000000\\nRu       1.96000000      -9.80000000       0.00000000\\nPt       1.96000000      -9.80000000       3.92000000\\nPt       0.00000000      -5.88000000      -5.88000000\\nPt       1.96000000      -7.84000000      -5.88000000\\nPt       1.96000000      -5.88000000      -7.84000000\\nPt       0.00000000      -7.84000000      -3.92000000\\nRu       0.00000000      -5.88000000      -1.96000000\\nRu       1.96000000      -7.84000000      -1.96000000\\nPt       1.96000000      -5.88000000      -3.92000000\\nPt       0.00000000      -7.84000000       0.00000000\\nPt       0.00000000      -5.88000000       1.96000000\\nRu       1.96000000      -7.84000000       1.96000000\\nRu       1.96000000      -5.88000000       0.00000000\\nPt       0.00000000      -7.84000000       3.92000000\\nPt       0.00000000      -5.88000000       5.88000000\\nPt       1.96000000      -7.84000000       5.88000000\\nRu       1.96000000      -5.88000000       3.92000000\\nPt       1.96000000      -5.88000000       7.84000000\\nRu       0.00000000      -1.96000000      -9.80000000\\nRu       1.96000000      -3.92000000      -9.80000000\\nPt       1.96000000      -1.96000000     -11.76000000\\nRu       0.00000000      -3.92000000      -7.84000000\\nRu       0.00000000      -1.96000000      -5.88000000\\nPt       1.96000000      -3.92000000      -5.88000000\\nPt       1.96000000      -1.96000000      -7.84000000\\nPt       0.00000000      -3.92000000      -3.92000000\\nRu       0.00000000      -1.96000000      -1.96000000\\nPt       1.96000000      -3.92000000      -1.96000000\\nRu       1.96000000      -1.96000000      -3.92000000\\nRu       0.00000000      -3.92000000       0.00000000\\nRu       0.00000000      -1.96000000       1.96000000\\nPt       1.96000000      -3.92000000       1.96000000\\nPt       1.96000000      -1.96000000       0.00000000\\nPt       0.00000000      -3.92000000       3.92000000\\nRu       0.00000000      -1.96000000       5.88000000\\nRu       1.96000000      -3.92000000       5.88000000\\nRu       1.96000000      -1.96000000       3.92000000\\nRu       0.00000000      -3.92000000       7.84000000\\nRu       0.00000000      -1.96000000       9.80000000\\nPt       1.96000000      -3.92000000       9.80000000\\nPt       1.96000000      -1.96000000       7.84000000\\nPt       1.96000000      -1.96000000      11.76000000\\nRu       0.00000000       0.00000000     -11.76000000\\nPt       0.00000000       1.96000000      -9.80000000\\nRu       1.96000000       0.00000000      -9.80000000\\nPt       1.96000000       1.96000000     -11.76000000\\nRu       0.00000000       0.00000000      -7.84000000\\nPt       0.00000000       1.96000000      -5.88000000\\nRu       1.96000000       0.00000000      -5.88000000\\nPt       1.96000000       1.96000000      -7.84000000\\nPt       0.00000000       0.00000000      -3.92000000\\nRu       0.00000000       1.96000000      -1.96000000\\nPt       1.96000000       0.00000000      -1.96000000\\nRu       1.96000000       1.96000000      -3.92000000\\nRu       0.00000000       0.00000000       0.00000000\\nRu       0.00000000       1.96000000       1.96000000\\nPt       1.96000000       0.00000000       1.96000000\\nPt       1.96000000       1.96000000       0.00000000\\nPt       0.00000000       0.00000000       3.92000000\\nRu       0.00000000       1.96000000       5.88000000\\nPt       1.96000000       0.00000000       5.88000000\\nRu       1.96000000       1.96000000       3.92000000\\nRu       0.00000000       0.00000000       7.84000000\\nRu       0.00000000       1.96000000       9.80000000\\nRu       1.96000000       0.00000000       9.80000000\\nRu       1.96000000       1.96000000       7.84000000\\nRu       0.00000000       0.00000000      11.76000000\\nPt       1.96000000       1.96000000      11.76000000\\nRu       1.96000000       3.92000000      -9.80000000\\nRu       0.00000000       3.92000000      -7.84000000\\nRu       0.00000000       5.88000000      -5.88000000\\nPt       1.96000000       3.92000000      -5.88000000\\nPt       1.96000000       5.88000000      -7.84000000\\nRu       0.00000000       3.92000000      -3.92000000\\nRu       0.00000000       5.88000000      -1.96000000\\nRu       1.96000000       3.92000000      -1.96000000\\nPt       1.96000000       5.88000000      -3.92000000\\nPt       0.00000000       3.92000000       0.00000000\\nPt       0.00000000       5.88000000       1.96000000\\nPt       1.96000000       3.92000000       1.96000000\\nRu       1.96000000       5.88000000       0.00000000\\nPt       0.00000000       3.92000000       3.92000000\\nRu       0.00000000       5.88000000       5.88000000\\nRu       1.96000000       3.92000000       5.88000000\\nPt       1.96000000       5.88000000       3.92000000\\nPt       0.00000000       3.92000000       7.84000000\\nRu       1.96000000       3.92000000       9.80000000\\nRu       1.96000000       5.88000000       7.84000000\\nRu       1.96000000       7.84000000      -5.88000000\\nRu       0.00000000       7.84000000      -3.92000000\\nRu       0.00000000       9.80000000      -1.96000000\\nRu       1.96000000       7.84000000      -1.96000000\\nPt       1.96000000       9.80000000      -3.92000000\\nRu       0.00000000       7.84000000       0.00000000\\nRu       0.00000000       9.80000000       1.96000000\\nRu       1.96000000       7.84000000       1.96000000\\nRu       1.96000000       9.80000000       0.00000000\\nPt       0.00000000       7.84000000       3.92000000\\nRu       1.96000000       7.84000000       5.88000000\\nRu       1.96000000       9.80000000       3.92000000\\nRu       1.96000000      11.76000000      -1.96000000\\nRu       0.00000000      11.76000000       0.00000000\\nPt       1.96000000      11.76000000       1.96000000\\nRu       3.92000000      -9.80000000      -1.96000000\\nRu       3.92000000      -9.80000000       1.96000000\\nRu       3.92000000      -5.88000000      -5.88000000\\nPt       5.88000000      -7.84000000      -5.88000000\\nPt       5.88000000      -5.88000000      -7.84000000\\nPt       3.92000000      -7.84000000      -3.92000000\\nPt       3.92000000      -5.88000000      -1.96000000\\nPt       5.88000000      -7.84000000      -1.96000000\\nRu       5.88000000      -5.88000000      -3.92000000\\nPt       3.92000000      -7.84000000       0.00000000\\nPt       3.92000000      -5.88000000       1.96000000\\nPt       5.88000000      -7.84000000       1.96000000\\nRu       5.88000000      -5.88000000       0.00000000\\nPt       3.92000000      -7.84000000       3.92000000\\nRu       3.92000000      -5.88000000       5.88000000\\nRu       5.88000000      -7.84000000       5.88000000\\nRu       5.88000000      -5.88000000       3.92000000\\nRu       5.88000000      -5.88000000       7.84000000\\nRu       3.92000000      -1.96000000      -9.80000000\\nRu       3.92000000      -3.92000000      -7.84000000\\nRu       3.92000000      -1.96000000      -5.88000000\\nRu       5.88000000      -3.92000000      -5.88000000\\nPt       5.88000000      -1.96000000      -7.84000000\\nPt       3.92000000      -3.92000000      -3.92000000\\nPt       3.92000000      -1.96000000      -1.96000000\\nRu       5.88000000      -3.92000000      -1.96000000\\nPt       5.88000000      -1.96000000      -3.92000000\\nRu       3.92000000      -3.92000000       0.00000000\\nPt       3.92000000      -1.96000000       1.96000000\\nPt       5.88000000      -3.92000000       1.96000000\\nPt       5.88000000      -1.96000000       0.00000000\\nPt       3.92000000      -3.92000000       3.92000000\\nPt       3.92000000      -1.96000000       5.88000000\\nRu       5.88000000      -3.92000000       5.88000000\\nPt       5.88000000      -1.96000000       3.92000000\\nPt       3.92000000      -3.92000000       7.84000000\\nPt       3.92000000      -1.96000000       9.80000000\\nPt       5.88000000      -1.96000000       7.84000000\\nRu       3.92000000       1.96000000      -9.80000000\\nRu       3.92000000       0.00000000      -7.84000000\\nRu       3.92000000       1.96000000      -5.88000000\\nRu       5.88000000       0.00000000      -5.88000000\\nRu       5.88000000       1.96000000      -7.84000000\\nRu       3.92000000       0.00000000      -3.92000000\\nRu       3.92000000       1.96000000      -1.96000000\\nRu       5.88000000       0.00000000      -1.96000000\\nRu       5.88000000       1.96000000      -3.92000000\\nRu       3.92000000       0.00000000       0.00000000\\nPt       3.92000000       1.96000000       1.96000000\\nRu       5.88000000       0.00000000       1.96000000\\nPt       5.88000000       1.96000000       0.00000000\\nRu       3.92000000       0.00000000       3.92000000\\nPt       3.92000000       1.96000000       5.88000000\\nRu       5.88000000       0.00000000       5.88000000\\nRu       5.88000000       1.96000000       3.92000000\\nRu       3.92000000       0.00000000       7.84000000\\nRu       3.92000000       1.96000000       9.80000000\\nRu       5.88000000       1.96000000       7.84000000\\nPt       3.92000000       3.92000000      -7.84000000\\nRu       3.92000000       5.88000000      -5.88000000\\nRu       5.88000000       3.92000000      -5.88000000\\nPt       5.88000000       5.88000000      -7.84000000\\nPt       3.92000000       3.92000000      -3.92000000\\nPt       3.92000000       5.88000000      -1.96000000\\nPt       5.88000000       3.92000000      -1.96000000\\nRu       5.88000000       5.88000000      -3.92000000\\nPt       3.92000000       3.92000000       0.00000000\\nPt       3.92000000       5.88000000       1.96000000\\nRu       5.88000000       3.92000000       1.96000000\\nRu       5.88000000       5.88000000       0.00000000\\nRu       3.92000000       3.92000000       3.92000000\\nRu       3.92000000       5.88000000       5.88000000\\nPt       5.88000000       3.92000000       5.88000000\\nRu       5.88000000       5.88000000       3.92000000\\nRu       3.92000000       3.92000000       7.84000000\\nPt       5.88000000       5.88000000       7.84000000\\nRu       5.88000000       7.84000000      -5.88000000\\nPt       3.92000000       7.84000000      -3.92000000\\nPt       3.92000000       9.80000000      -1.96000000\\nRu       5.88000000       7.84000000      -1.96000000\\nRu       3.92000000       7.84000000       0.00000000\\nPt       3.92000000       9.80000000       1.96000000\\nPt       5.88000000       7.84000000       1.96000000\\nPt       3.92000000       7.84000000       3.92000000\\nPt       5.88000000       7.84000000       5.88000000\\nRu       7.84000000      -5.88000000      -5.88000000\\nRu       7.84000000      -5.88000000      -1.96000000\\nPt       7.84000000      -5.88000000       1.96000000\\nPt       7.84000000      -5.88000000       5.88000000\\nRu       7.84000000      -1.96000000      -5.88000000\\nPt       7.84000000      -3.92000000      -3.92000000\\nRu       7.84000000      -1.96000000      -1.96000000\\nRu       9.80000000      -3.92000000      -1.96000000\\nRu       9.80000000      -1.96000000      -3.92000000\\nPt       7.84000000      -3.92000000       0.00000000\\nPt       7.84000000      -1.96000000       1.96000000\\nPt       9.80000000      -3.92000000       1.96000000\\nPt       9.80000000      -1.96000000       0.00000000\\nRu       7.84000000      -3.92000000       3.92000000\\nPt       7.84000000      -1.96000000       5.88000000\\nPt       9.80000000      -1.96000000       3.92000000\\nRu       7.84000000       1.96000000      -5.88000000\\nRu       7.84000000       0.00000000      -3.92000000\\nPt       7.84000000       1.96000000      -1.96000000\\nRu       9.80000000       0.00000000      -1.96000000\\nPt       9.80000000       1.96000000      -3.92000000\\nRu       7.84000000       0.00000000       0.00000000\\nRu       7.84000000       1.96000000       1.96000000\\nPt       9.80000000       0.00000000       1.96000000\\nRu       9.80000000       1.96000000       0.00000000\\nPt       7.84000000       0.00000000       3.92000000\\nPt       7.84000000       1.96000000       5.88000000\\nRu       9.80000000       1.96000000       3.92000000\\nPt       7.84000000       5.88000000      -5.88000000\\nRu       7.84000000       3.92000000      -3.92000000\\nRu       7.84000000       5.88000000      -1.96000000\\nPt       9.80000000       3.92000000      -1.96000000\\nPt       7.84000000       3.92000000       0.00000000\\nPt       7.84000000       5.88000000       1.96000000\\nPt       9.80000000       3.92000000       1.96000000\\nPt       7.84000000       3.92000000       3.92000000\\nPt       7.84000000       5.88000000       5.88000000\\nPt      11.76000000      -1.96000000      -1.96000000\\nPt      11.76000000      -1.96000000       1.96000000\\nPt      11.76000000       1.96000000      -1.96000000\\nRu      11.76000000       0.00000000       0.00000000\\nPt      11.76000000       1.96000000       1.96000000\\n\",\"xyz\");\n",
              "\tviewer_17529526020340068.setStyle({\"elem\": \"Pt\"},{\"sphere\": {\"color\": \"gold\", \"radius\": 1.5}});\n",
              "\tviewer_17529526020340068.setStyle({\"elem\": \"Ru\"},{\"sphere\": {\"color\": \"green\", \"radius\": 1.5}});\n",
              "\tviewer_17529526020340068.setBackgroundColor(\"white\");\n",
              "\tviewer_17529526020340068.zoomTo();\n",
              "viewer_17529526020340068.render();\n",
              "});\n",
              "</script>"
            ]
          },
          "metadata": {}
        }
      ]
    },
    {
      "cell_type": "code",
      "source": [
        "import os\n",
        "import imageio.v2 as imageio  # use v2 to suppress future deprecation warnings\n",
        "import numpy as np\n",
        "import matplotlib.pyplot as plt\n",
        "from ase.io import read\n",
        "from ase.visualize.plot import plot_atoms\n",
        "from ase.data.colors import jmol_colors\n",
        "import openpyxl\n",
        "\n",
        "# --- User Parameters ---\n",
        "trajectory_folder = \"trajectory\"  # Folder containing your .xyz snapshots\n",
        "xlsx_file = \"MMC_PtRu_log.xlsx\"   # Your MMC simulation Excel log filename\n",
        "fps = 1                          # Video frames per second\n",
        "output_movie = \"3D_MC_Enhanced_Movie_With_Inset.mp4\"\n",
        "\n",
        "# Custom color map for atoms\n",
        "symbol_to_color = {\n",
        "    'Pt': 'silver',\n",
        "    'Ru': 'royalblue',\n",
        "    'Fe': '#d62728',\n",
        "    'Sn': '#2ca02c',\n",
        "    'Pb': '#ff7f0e',\n",
        "    'Co': '#9467bd',\n",
        "    'Au': '#e6c200',\n",
        "    'Cu': '#17becf',\n",
        "}\n",
        "\n",
        "# --- Load MMC Excel Log ---\n",
        "print(f\"📥 Loading Excel log: {xlsx_file}\")\n",
        "wb = openpyxl.load_workbook(xlsx_file, data_only=True)\n",
        "ws = wb.active  # Adjust if your log is on a different sheet by name\n",
        "\n",
        "# Find header row (skip param rows) - here assumed after 8 rows of params + 1 blank line\n",
        "header_row = 10  # Change this if your excel layout differs\n",
        "headers = [cell.value for cell in ws[header_row]]\n",
        "\n",
        "# Find required columns\n",
        "step_col = headers.index('Step') + 1\n",
        "energy_col = headers.index('Energy (eV)') + 1\n",
        "surface_ratio_col = None\n",
        "for key in ['Surface Ratio', 'Surface Atoms Ratio', 'Surface A Ratio', 'Surface Ratio (A)']:\n",
        "    if key in headers:\n",
        "        surface_ratio_col = headers.index(key) + 1\n",
        "        break\n",
        "\n",
        "steps = []\n",
        "energies = []\n",
        "surface_ratios = []\n",
        "\n",
        "for row in ws.iter_rows(min_row=header_row+1, max_row=ws.max_row):\n",
        "    steps.append(row[step_col-1].value)\n",
        "    energies.append(row[energy_col-1].value)\n",
        "    if surface_ratio_col:\n",
        "        surface_ratios.append(row[surface_ratio_col-1].value)\n",
        "    else:\n",
        "        surface_ratios.append(None)\n",
        "\n",
        "print(f\"Loaded {len(steps)} log entries from Excel.\")\n",
        "\n",
        "# --- Load XYZ Snapshots ---\n",
        "xyz_files = sorted([f for f in os.listdir(trajectory_folder) if f.endswith(\".xyz\")])\n",
        "print(f\"📦 Found {len(xyz_files)} snapshots in '{trajectory_folder}'.\")\n",
        "\n",
        "images = []\n",
        "\n",
        "for step_idx, xyz_file in enumerate(xyz_files, 1):\n",
        "    atoms = read(os.path.join(trajectory_folder, xyz_file))\n",
        "    label = xyz_file.replace(\".xyz\", \"\")  # e.g. 'step_01500'\n",
        "\n",
        "    # Parse numeric step number from filename (assumes format like step_01500)\n",
        "    try:\n",
        "        current_step = int(''.join(filter(str.isdigit, label)))\n",
        "    except:\n",
        "        current_step = step_idx  # fallback if parsing fails\n",
        "\n",
        "    # Assign atom colors and count present elements\n",
        "    colors = {}\n",
        "    element_counts = {}\n",
        "    for i, atom in enumerate(atoms):\n",
        "        symbol = atom.symbol\n",
        "        colors[i] = symbol_to_color.get(symbol, tuple(jmol_colors[atom.number]))\n",
        "        element_counts[symbol] = element_counts.get(symbol, 0) + 1\n",
        "\n",
        "    print(f\"🎬 Rendering {label} (Step {current_step})...\")\n",
        "\n",
        "    # Setup plot\n",
        "    fig, ax = plt.subplots(figsize=(7, 7), dpi=300)\n",
        "    fig.patch.set_facecolor('#f0f0f0')\n",
        "    ax.set_facecolor('#f0f0f0')\n",
        "\n",
        "    plot_atoms(\n",
        "        atoms, ax,\n",
        "        radii=0.6,\n",
        "        colors=colors,\n",
        "        rotation=('30x,30y,0z'),\n",
        "        show_unit_cell=0\n",
        "    )\n",
        "\n",
        "    # Frame label bottom-right\n",
        "    fig.text(\n",
        "        0.95, 0.05, label,\n",
        "        ha='right', va='bottom',\n",
        "        fontsize=11, color='black',\n",
        "        bbox=dict(facecolor='white', edgecolor='gray', boxstyle='round,pad=0.3')\n",
        "    )\n",
        "\n",
        "    # Legend top-left with counts, e.g. ● Pt (58)\n",
        "    x0, y0 = 0.05, 0.95\n",
        "    dy = 0.035\n",
        "    for idx, symbol in enumerate(sorted(element_counts.keys())):\n",
        "        count = element_counts[symbol]\n",
        "        fig.text(\n",
        "            x0, y0 - idx * dy,\n",
        "            f\"● {symbol} ({count})\",\n",
        "            fontsize=10,\n",
        "            ha='left', va='top',\n",
        "            color=symbol_to_color.get(symbol, 'gray'),\n",
        "            fontweight='bold'\n",
        "        )\n",
        "\n",
        "    # Inset plot: energy and surface ratio up to current step\n",
        "    inset_ax = fig.add_axes([0.6, 0.75, 0.35, 0.2])  # x, y, width, height (figure coords)\n",
        "    # Find closest log index for current_step\n",
        "    idx = min(range(len(steps)), key=lambda i: abs(steps[i] - current_step))\n",
        "\n",
        "    inset_ax.plot(steps[:idx + 1], energies[:idx + 1], color='blue', label='Energy (eV)')\n",
        "    if surface_ratio_col:\n",
        "        inset_ax.plot(steps[:idx + 1], surface_ratios[:idx + 1], color='orange', label='Surface Ratio')\n",
        "\n",
        "    inset_ax.set_xlabel('Step', fontsize=8)\n",
        "    inset_ax.set_ylabel('Value', fontsize=8)\n",
        "    inset_ax.tick_params(axis='both', which='major', labelsize=7)\n",
        "    inset_ax.legend(fontsize=7)\n",
        "    inset_ax.grid(True, linestyle='--', alpha=0.5)\n",
        "\n",
        "    ax.axis('off')\n",
        "\n",
        "    # Save frame image\n",
        "    tmp_png = f\"/tmp/{xyz_file}.png\"\n",
        "    fig.savefig(tmp_png)\n",
        "    plt.close(fig)\n",
        "\n",
        "    images.append(imageio.imread(tmp_png))\n",
        "\n",
        "# --- Compile video ---\n",
        "print(\"🎞️ Compiling final video...\")\n",
        "imageio.mimsave(output_movie, images, fps=fps)\n",
        "print(f\"✅ Final movie saved as: {output_movie}\")\n"
      ],
      "metadata": {
        "colab": {
          "base_uri": "https://localhost:8080/",
          "height": 228
        },
        "id": "Zj_ujHAnBXmw",
        "outputId": "ddf13fbf-2e75-4409-b857-b6653935cf98"
      },
      "execution_count": null,
      "outputs": [
        {
          "output_type": "stream",
          "name": "stdout",
          "text": [
            "📥 Loading Excel log: MMC_PtRu_log.xlsx\n"
          ]
        },
        {
          "output_type": "error",
          "ename": "ValueError",
          "evalue": "'Step' is not in list",
          "traceback": [
            "\u001b[0;31m---------------------------------------------------------------------------\u001b[0m",
            "\u001b[0;31mValueError\u001b[0m                                Traceback (most recent call last)",
            "\u001b[0;32m/tmp/ipython-input-30-2953163648.py\u001b[0m in \u001b[0;36m<cell line: 0>\u001b[0;34m()\u001b[0m\n\u001b[1;32m     36\u001b[0m \u001b[0;34m\u001b[0m\u001b[0m\n\u001b[1;32m     37\u001b[0m \u001b[0;31m# Find required columns\u001b[0m\u001b[0;34m\u001b[0m\u001b[0;34m\u001b[0m\u001b[0m\n\u001b[0;32m---> 38\u001b[0;31m \u001b[0mstep_col\u001b[0m \u001b[0;34m=\u001b[0m \u001b[0mheaders\u001b[0m\u001b[0;34m.\u001b[0m\u001b[0mindex\u001b[0m\u001b[0;34m(\u001b[0m\u001b[0;34m'Step'\u001b[0m\u001b[0;34m)\u001b[0m \u001b[0;34m+\u001b[0m \u001b[0;36m1\u001b[0m\u001b[0;34m\u001b[0m\u001b[0;34m\u001b[0m\u001b[0m\n\u001b[0m\u001b[1;32m     39\u001b[0m \u001b[0menergy_col\u001b[0m \u001b[0;34m=\u001b[0m \u001b[0mheaders\u001b[0m\u001b[0;34m.\u001b[0m\u001b[0mindex\u001b[0m\u001b[0;34m(\u001b[0m\u001b[0;34m'Energy (eV)'\u001b[0m\u001b[0;34m)\u001b[0m \u001b[0;34m+\u001b[0m \u001b[0;36m1\u001b[0m\u001b[0;34m\u001b[0m\u001b[0;34m\u001b[0m\u001b[0m\n\u001b[1;32m     40\u001b[0m \u001b[0msurface_ratio_col\u001b[0m \u001b[0;34m=\u001b[0m \u001b[0;32mNone\u001b[0m\u001b[0;34m\u001b[0m\u001b[0;34m\u001b[0m\u001b[0m\n",
            "\u001b[0;31mValueError\u001b[0m: 'Step' is not in list"
          ]
        }
      ]
    },
    {
      "cell_type": "code",
      "source": [
        "from google.colab import files\n",
        "files.download(\"nanoparticle_evolution.mp4\")\n"
      ],
      "metadata": {
        "colab": {
          "base_uri": "https://localhost:8080/",
          "height": 17
        },
        "id": "dvDzmktOEbvb",
        "outputId": "c279d068-fef1-46a8-ad69-905716560a7c"
      },
      "execution_count": null,
      "outputs": [
        {
          "output_type": "display_data",
          "data": {
            "text/plain": [
              "<IPython.core.display.Javascript object>"
            ],
            "application/javascript": [
              "\n",
              "    async function download(id, filename, size) {\n",
              "      if (!google.colab.kernel.accessAllowed) {\n",
              "        return;\n",
              "      }\n",
              "      const div = document.createElement('div');\n",
              "      const label = document.createElement('label');\n",
              "      label.textContent = `Downloading \"${filename}\": `;\n",
              "      div.appendChild(label);\n",
              "      const progress = document.createElement('progress');\n",
              "      progress.max = size;\n",
              "      div.appendChild(progress);\n",
              "      document.body.appendChild(div);\n",
              "\n",
              "      const buffers = [];\n",
              "      let downloaded = 0;\n",
              "\n",
              "      const channel = await google.colab.kernel.comms.open(id);\n",
              "      // Send a message to notify the kernel that we're ready.\n",
              "      channel.send({})\n",
              "\n",
              "      for await (const message of channel.messages) {\n",
              "        // Send a message to notify the kernel that we're ready.\n",
              "        channel.send({})\n",
              "        if (message.buffers) {\n",
              "          for (const buffer of message.buffers) {\n",
              "            buffers.push(buffer);\n",
              "            downloaded += buffer.byteLength;\n",
              "            progress.value = downloaded;\n",
              "          }\n",
              "        }\n",
              "      }\n",
              "      const blob = new Blob(buffers, {type: 'application/binary'});\n",
              "      const a = document.createElement('a');\n",
              "      a.href = window.URL.createObjectURL(blob);\n",
              "      a.download = filename;\n",
              "      div.appendChild(a);\n",
              "      a.click();\n",
              "      div.remove();\n",
              "    }\n",
              "  "
            ]
          },
          "metadata": {}
        },
        {
          "output_type": "display_data",
          "data": {
            "text/plain": [
              "<IPython.core.display.Javascript object>"
            ],
            "application/javascript": [
              "download(\"download_12afd96f-dd9f-4b3d-b0d9-95c7473b1383\", \"nanoparticle_evolution.mp4\", 88004)"
            ]
          },
          "metadata": {}
        }
      ]
    }
  ]
}